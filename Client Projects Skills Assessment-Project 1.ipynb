{
 "cells": [
  {
   "cell_type": "markdown",
   "id": "f6f41058",
   "metadata": {},
   "source": [
    "# Client Project Skills Assessment\n",
    "\n",
    "FinanceZ company provides personal installment loans to borrowers through the primary verticals that it operates in: Home Improvement, Vehicle, and Retail. The Risk and Operations department senior management need to monitor the loan portfolio to ensure that delinquency and losses are at acceptable levels.\n",
    "\n",
    "\n",
    "## Data Analysis"
   ]
  },
  {
   "cell_type": "raw",
   "id": "70cf073d",
   "metadata": {},
   "source": [
    "1. Background\n",
    "In this project, the data sets contain the following information:\n",
    "• ID: loan identification\n",
    "• Dlq_stat: whether the loan is in “Current”, “Delinquent”, “WriteOff”\n",
    "• Amounts: Outstanding amount for each loan\n",
    "• obs_date: as of date for each loan\n",
    "• Dlq_days: if the loan is in delinquency, how many days they are past due.\n",
    "• Vertical1: loan origination channels. They are Home Improvement, Vehicle, and Retail.\n",
    "• Province1: the province where the loan was originated\n",
    "\n",
    "\n",
    "2. Tasks\n",
    "\n",
    "Task 1\n",
    "Use Test_data_2014_06_30 to complete the tasks:\n",
    "\n",
    "a) Each loan is in status of either “current”, “delinquent”, or “write-off. Create a chart or charts which summarize/illustrate key insights into the data provided.\n",
    "\n",
    "Task 2\n",
    "Use Test_data_2014_06_30, Test_data_2014_07_30, and Test_data_2014_08_30\n",
    "\n",
    "a) Management wants to know whether there are any key trends in performance between June and August. Use Google Slides or powerpoint to present your results (2-3 slides max).\n"
   ]
  },
  {
   "cell_type": "code",
   "execution_count": 136,
   "id": "208b9f22",
   "metadata": {},
   "outputs": [],
   "source": [
    "import pandas as pd\n",
    "import csv\n",
    "import re\n",
    "import numpy as np\n",
    "import random\n",
    "\n",
    "from datetime import datetime\n",
    "\n",
    "pd.set_option('display.float_format', lambda x: '%.2f' % x)\n",
    "import matplotlib.pyplot as plt\n",
    "import seaborn as sns\n",
    "%matplotlib inline\n",
    "\n",
    "from sklearn.tree import DecisionTreeRegressor\n",
    "from sklearn.linear_model import LinearRegression\n",
    "from sklearn.model_selection import train_test_split\n",
    "\n",
    "from numpy import asarray\n",
    "from sklearn.preprocessing import OneHotEncoder\n",
    "from sklearn.preprocessing import StandardScaler\n",
    "\n",
    "import seaborn as sns\n",
    "\n",
    "from collections import Counter # Keep track of our term counts\n",
    "import json # For parsing json\n",
    "\n",
    "from sqlalchemy import create_engine, text\n",
    "\n",
    "import configparser"
   ]
  },
  {
   "cell_type": "code",
   "execution_count": 137,
   "id": "11f50c4b",
   "metadata": {},
   "outputs": [],
   "source": [
    "df1 = pd.read_csv('Test_Data_C_2014_06_30.csv')"
   ]
  },
  {
   "cell_type": "code",
   "execution_count": 3,
   "id": "8baf0840",
   "metadata": {},
   "outputs": [
    {
     "data": {
      "text/html": [
       "<div>\n",
       "<style scoped>\n",
       "    .dataframe tbody tr th:only-of-type {\n",
       "        vertical-align: middle;\n",
       "    }\n",
       "\n",
       "    .dataframe tbody tr th {\n",
       "        vertical-align: top;\n",
       "    }\n",
       "\n",
       "    .dataframe thead th {\n",
       "        text-align: right;\n",
       "    }\n",
       "</style>\n",
       "<table border=\"1\" class=\"dataframe\">\n",
       "  <thead>\n",
       "    <tr style=\"text-align: right;\">\n",
       "      <th></th>\n",
       "      <th>Unnamed: 0</th>\n",
       "      <th>ID</th>\n",
       "      <th>Dlq_stat</th>\n",
       "      <th>amounts</th>\n",
       "      <th>obs_date</th>\n",
       "      <th>Dlq_days</th>\n",
       "      <th>Vertical1</th>\n",
       "      <th>Province1</th>\n",
       "    </tr>\n",
       "  </thead>\n",
       "  <tbody>\n",
       "    <tr>\n",
       "      <th>0</th>\n",
       "      <td>1</td>\n",
       "      <td>F1</td>\n",
       "      <td>Current</td>\n",
       "      <td>389.63</td>\n",
       "      <td>2014-06-30 12:00:00</td>\n",
       "      <td>NaN</td>\n",
       "      <td>Home Improvement</td>\n",
       "      <td>ON</td>\n",
       "    </tr>\n",
       "    <tr>\n",
       "      <th>1</th>\n",
       "      <td>2</td>\n",
       "      <td>F2</td>\n",
       "      <td>Current</td>\n",
       "      <td>2446.13</td>\n",
       "      <td>2014-06-30 12:00:00</td>\n",
       "      <td>NaN</td>\n",
       "      <td>Vehicle</td>\n",
       "      <td>AB</td>\n",
       "    </tr>\n",
       "    <tr>\n",
       "      <th>2</th>\n",
       "      <td>3</td>\n",
       "      <td>F3</td>\n",
       "      <td>Current</td>\n",
       "      <td>2874.37</td>\n",
       "      <td>2014-06-30 12:00:00</td>\n",
       "      <td>NaN</td>\n",
       "      <td>Home Improvement</td>\n",
       "      <td>ON</td>\n",
       "    </tr>\n",
       "    <tr>\n",
       "      <th>3</th>\n",
       "      <td>4</td>\n",
       "      <td>F4</td>\n",
       "      <td>Current</td>\n",
       "      <td>299.63</td>\n",
       "      <td>2014-06-30 12:00:00</td>\n",
       "      <td>NaN</td>\n",
       "      <td>Home Improvement</td>\n",
       "      <td>ON</td>\n",
       "    </tr>\n",
       "    <tr>\n",
       "      <th>4</th>\n",
       "      <td>5</td>\n",
       "      <td>F5</td>\n",
       "      <td>Current</td>\n",
       "      <td>745.46</td>\n",
       "      <td>2014-06-30 12:00:00</td>\n",
       "      <td>NaN</td>\n",
       "      <td>Home Improvement</td>\n",
       "      <td>Other Provinces</td>\n",
       "    </tr>\n",
       "    <tr>\n",
       "      <th>5</th>\n",
       "      <td>6</td>\n",
       "      <td>F6</td>\n",
       "      <td>Current</td>\n",
       "      <td>292.90</td>\n",
       "      <td>2014-06-30 12:00:00</td>\n",
       "      <td>NaN</td>\n",
       "      <td>Home Improvement</td>\n",
       "      <td>ON</td>\n",
       "    </tr>\n",
       "    <tr>\n",
       "      <th>6</th>\n",
       "      <td>7</td>\n",
       "      <td>F7</td>\n",
       "      <td>Current</td>\n",
       "      <td>1913.26</td>\n",
       "      <td>2014-06-30 12:00:00</td>\n",
       "      <td>NaN</td>\n",
       "      <td>Home Improvement</td>\n",
       "      <td>ON</td>\n",
       "    </tr>\n",
       "    <tr>\n",
       "      <th>7</th>\n",
       "      <td>8</td>\n",
       "      <td>F8</td>\n",
       "      <td>Current</td>\n",
       "      <td>2749.59</td>\n",
       "      <td>2014-06-30 12:00:00</td>\n",
       "      <td>NaN</td>\n",
       "      <td>Vehicle</td>\n",
       "      <td>AB</td>\n",
       "    </tr>\n",
       "    <tr>\n",
       "      <th>8</th>\n",
       "      <td>9</td>\n",
       "      <td>F9</td>\n",
       "      <td>Current</td>\n",
       "      <td>1638.36</td>\n",
       "      <td>2014-06-30 12:00:00</td>\n",
       "      <td>NaN</td>\n",
       "      <td>Home Improvement</td>\n",
       "      <td>ON</td>\n",
       "    </tr>\n",
       "    <tr>\n",
       "      <th>9</th>\n",
       "      <td>10</td>\n",
       "      <td>F10</td>\n",
       "      <td>Current</td>\n",
       "      <td>10432.11</td>\n",
       "      <td>2014-06-30 12:00:00</td>\n",
       "      <td>NaN</td>\n",
       "      <td>Vehicle</td>\n",
       "      <td>AB</td>\n",
       "    </tr>\n",
       "    <tr>\n",
       "      <th>10</th>\n",
       "      <td>11</td>\n",
       "      <td>F11</td>\n",
       "      <td>Current</td>\n",
       "      <td>1765.47</td>\n",
       "      <td>2014-06-30 12:00:00</td>\n",
       "      <td>NaN</td>\n",
       "      <td>Vehicle</td>\n",
       "      <td>ON</td>\n",
       "    </tr>\n",
       "    <tr>\n",
       "      <th>11</th>\n",
       "      <td>12</td>\n",
       "      <td>F12</td>\n",
       "      <td>Current</td>\n",
       "      <td>1061.07</td>\n",
       "      <td>2014-06-30 12:00:00</td>\n",
       "      <td>NaN</td>\n",
       "      <td>Vehicle</td>\n",
       "      <td>BC</td>\n",
       "    </tr>\n",
       "    <tr>\n",
       "      <th>12</th>\n",
       "      <td>13</td>\n",
       "      <td>F13</td>\n",
       "      <td>Current</td>\n",
       "      <td>873.63</td>\n",
       "      <td>2014-06-30 12:00:00</td>\n",
       "      <td>NaN</td>\n",
       "      <td>Vehicle</td>\n",
       "      <td>AB</td>\n",
       "    </tr>\n",
       "    <tr>\n",
       "      <th>13</th>\n",
       "      <td>14</td>\n",
       "      <td>F14</td>\n",
       "      <td>Current</td>\n",
       "      <td>3048.32</td>\n",
       "      <td>2014-06-30 12:00:00</td>\n",
       "      <td>NaN</td>\n",
       "      <td>Vehicle</td>\n",
       "      <td>AB</td>\n",
       "    </tr>\n",
       "    <tr>\n",
       "      <th>14</th>\n",
       "      <td>15</td>\n",
       "      <td>F15</td>\n",
       "      <td>Current</td>\n",
       "      <td>4080.97</td>\n",
       "      <td>2014-06-30 12:00:00</td>\n",
       "      <td>NaN</td>\n",
       "      <td>Vehicle</td>\n",
       "      <td>AB</td>\n",
       "    </tr>\n",
       "    <tr>\n",
       "      <th>15</th>\n",
       "      <td>16</td>\n",
       "      <td>F16</td>\n",
       "      <td>Current</td>\n",
       "      <td>1579.95</td>\n",
       "      <td>2014-06-30 12:00:00</td>\n",
       "      <td>NaN</td>\n",
       "      <td>Vehicle</td>\n",
       "      <td>AB</td>\n",
       "    </tr>\n",
       "    <tr>\n",
       "      <th>16</th>\n",
       "      <td>17</td>\n",
       "      <td>F17</td>\n",
       "      <td>Current</td>\n",
       "      <td>523.79</td>\n",
       "      <td>2014-06-30 12:00:00</td>\n",
       "      <td>NaN</td>\n",
       "      <td>Vehicle</td>\n",
       "      <td>Other Provinces</td>\n",
       "    </tr>\n",
       "    <tr>\n",
       "      <th>17</th>\n",
       "      <td>18</td>\n",
       "      <td>F18</td>\n",
       "      <td>Current</td>\n",
       "      <td>498.62</td>\n",
       "      <td>2014-06-30 12:00:00</td>\n",
       "      <td>NaN</td>\n",
       "      <td>Vehicle</td>\n",
       "      <td>Other Provinces</td>\n",
       "    </tr>\n",
       "    <tr>\n",
       "      <th>18</th>\n",
       "      <td>19</td>\n",
       "      <td>F19</td>\n",
       "      <td>Current</td>\n",
       "      <td>739.86</td>\n",
       "      <td>2014-06-30 12:00:00</td>\n",
       "      <td>NaN</td>\n",
       "      <td>Vehicle</td>\n",
       "      <td>AB</td>\n",
       "    </tr>\n",
       "    <tr>\n",
       "      <th>19</th>\n",
       "      <td>20</td>\n",
       "      <td>F20</td>\n",
       "      <td>Current</td>\n",
       "      <td>3612.81</td>\n",
       "      <td>2014-06-30 12:00:00</td>\n",
       "      <td>NaN</td>\n",
       "      <td>Vehicle</td>\n",
       "      <td>AB</td>\n",
       "    </tr>\n",
       "    <tr>\n",
       "      <th>20</th>\n",
       "      <td>21</td>\n",
       "      <td>F21</td>\n",
       "      <td>Current</td>\n",
       "      <td>652.74</td>\n",
       "      <td>2014-06-30 12:00:00</td>\n",
       "      <td>NaN</td>\n",
       "      <td>Vehicle</td>\n",
       "      <td>Other Provinces</td>\n",
       "    </tr>\n",
       "    <tr>\n",
       "      <th>21</th>\n",
       "      <td>22</td>\n",
       "      <td>F22</td>\n",
       "      <td>Current</td>\n",
       "      <td>2898.34</td>\n",
       "      <td>2014-06-30 12:00:00</td>\n",
       "      <td>NaN</td>\n",
       "      <td>Vehicle</td>\n",
       "      <td>AB</td>\n",
       "    </tr>\n",
       "    <tr>\n",
       "      <th>22</th>\n",
       "      <td>23</td>\n",
       "      <td>F23</td>\n",
       "      <td>Current</td>\n",
       "      <td>1295.19</td>\n",
       "      <td>2014-06-30 12:00:00</td>\n",
       "      <td>NaN</td>\n",
       "      <td>Vehicle</td>\n",
       "      <td>BC</td>\n",
       "    </tr>\n",
       "    <tr>\n",
       "      <th>23</th>\n",
       "      <td>24</td>\n",
       "      <td>F24</td>\n",
       "      <td>Current</td>\n",
       "      <td>862.57</td>\n",
       "      <td>2014-06-30 12:00:00</td>\n",
       "      <td>NaN</td>\n",
       "      <td>Vehicle</td>\n",
       "      <td>Other Provinces</td>\n",
       "    </tr>\n",
       "    <tr>\n",
       "      <th>24</th>\n",
       "      <td>25</td>\n",
       "      <td>F25</td>\n",
       "      <td>Current</td>\n",
       "      <td>1066.39</td>\n",
       "      <td>2014-06-30 12:00:00</td>\n",
       "      <td>NaN</td>\n",
       "      <td>Vehicle</td>\n",
       "      <td>AB</td>\n",
       "    </tr>\n",
       "    <tr>\n",
       "      <th>25</th>\n",
       "      <td>26</td>\n",
       "      <td>F26</td>\n",
       "      <td>Current</td>\n",
       "      <td>4795.19</td>\n",
       "      <td>2014-06-30 12:00:00</td>\n",
       "      <td>NaN</td>\n",
       "      <td>Vehicle</td>\n",
       "      <td>AB</td>\n",
       "    </tr>\n",
       "    <tr>\n",
       "      <th>26</th>\n",
       "      <td>27</td>\n",
       "      <td>F27</td>\n",
       "      <td>Current</td>\n",
       "      <td>880.03</td>\n",
       "      <td>2014-06-30 12:00:00</td>\n",
       "      <td>NaN</td>\n",
       "      <td>Vehicle</td>\n",
       "      <td>AB</td>\n",
       "    </tr>\n",
       "    <tr>\n",
       "      <th>27</th>\n",
       "      <td>28</td>\n",
       "      <td>F28</td>\n",
       "      <td>Current</td>\n",
       "      <td>1640.21</td>\n",
       "      <td>2014-06-30 12:00:00</td>\n",
       "      <td>NaN</td>\n",
       "      <td>Vehicle</td>\n",
       "      <td>AB</td>\n",
       "    </tr>\n",
       "    <tr>\n",
       "      <th>28</th>\n",
       "      <td>29</td>\n",
       "      <td>F29</td>\n",
       "      <td>Current</td>\n",
       "      <td>456.26</td>\n",
       "      <td>2014-06-30 12:00:00</td>\n",
       "      <td>NaN</td>\n",
       "      <td>Vehicle</td>\n",
       "      <td>BC</td>\n",
       "    </tr>\n",
       "    <tr>\n",
       "      <th>29</th>\n",
       "      <td>30</td>\n",
       "      <td>F30</td>\n",
       "      <td>Current</td>\n",
       "      <td>315.40</td>\n",
       "      <td>2014-06-30 12:00:00</td>\n",
       "      <td>NaN</td>\n",
       "      <td>Vehicle</td>\n",
       "      <td>Other Provinces</td>\n",
       "    </tr>\n",
       "    <tr>\n",
       "      <th>30</th>\n",
       "      <td>31</td>\n",
       "      <td>F31</td>\n",
       "      <td>Current</td>\n",
       "      <td>1848.63</td>\n",
       "      <td>2014-06-30 12:00:00</td>\n",
       "      <td>NaN</td>\n",
       "      <td>Vehicle</td>\n",
       "      <td>ON</td>\n",
       "    </tr>\n",
       "    <tr>\n",
       "      <th>31</th>\n",
       "      <td>32</td>\n",
       "      <td>F32</td>\n",
       "      <td>Current</td>\n",
       "      <td>416.41</td>\n",
       "      <td>2014-06-30 12:00:00</td>\n",
       "      <td>NaN</td>\n",
       "      <td>Vehicle</td>\n",
       "      <td>Other Provinces</td>\n",
       "    </tr>\n",
       "    <tr>\n",
       "      <th>32</th>\n",
       "      <td>33</td>\n",
       "      <td>F33</td>\n",
       "      <td>Current</td>\n",
       "      <td>580.49</td>\n",
       "      <td>2014-06-30 12:00:00</td>\n",
       "      <td>NaN</td>\n",
       "      <td>Vehicle</td>\n",
       "      <td>BC</td>\n",
       "    </tr>\n",
       "    <tr>\n",
       "      <th>33</th>\n",
       "      <td>34</td>\n",
       "      <td>F34</td>\n",
       "      <td>Current</td>\n",
       "      <td>561.72</td>\n",
       "      <td>2014-06-30 12:00:00</td>\n",
       "      <td>NaN</td>\n",
       "      <td>Vehicle</td>\n",
       "      <td>BC</td>\n",
       "    </tr>\n",
       "    <tr>\n",
       "      <th>34</th>\n",
       "      <td>35</td>\n",
       "      <td>F35</td>\n",
       "      <td>Current</td>\n",
       "      <td>3020.86</td>\n",
       "      <td>2014-06-30 12:00:00</td>\n",
       "      <td>NaN</td>\n",
       "      <td>Vehicle</td>\n",
       "      <td>AB</td>\n",
       "    </tr>\n",
       "    <tr>\n",
       "      <th>35</th>\n",
       "      <td>36</td>\n",
       "      <td>F36</td>\n",
       "      <td>Current</td>\n",
       "      <td>2929.33</td>\n",
       "      <td>2014-06-30 12:00:00</td>\n",
       "      <td>NaN</td>\n",
       "      <td>Vehicle</td>\n",
       "      <td>ON</td>\n",
       "    </tr>\n",
       "    <tr>\n",
       "      <th>36</th>\n",
       "      <td>37</td>\n",
       "      <td>F37</td>\n",
       "      <td>Current</td>\n",
       "      <td>1033.09</td>\n",
       "      <td>2014-06-30 12:00:00</td>\n",
       "      <td>NaN</td>\n",
       "      <td>Vehicle</td>\n",
       "      <td>AB</td>\n",
       "    </tr>\n",
       "    <tr>\n",
       "      <th>37</th>\n",
       "      <td>38</td>\n",
       "      <td>F38</td>\n",
       "      <td>Current</td>\n",
       "      <td>920.89</td>\n",
       "      <td>2014-06-30 12:00:00</td>\n",
       "      <td>NaN</td>\n",
       "      <td>Vehicle</td>\n",
       "      <td>Other Provinces</td>\n",
       "    </tr>\n",
       "    <tr>\n",
       "      <th>38</th>\n",
       "      <td>39</td>\n",
       "      <td>F39</td>\n",
       "      <td>Current</td>\n",
       "      <td>2153.80</td>\n",
       "      <td>2014-06-30 12:00:00</td>\n",
       "      <td>NaN</td>\n",
       "      <td>Vehicle</td>\n",
       "      <td>Other Provinces</td>\n",
       "    </tr>\n",
       "    <tr>\n",
       "      <th>39</th>\n",
       "      <td>40</td>\n",
       "      <td>F40</td>\n",
       "      <td>Current</td>\n",
       "      <td>625.60</td>\n",
       "      <td>2014-06-30 12:00:00</td>\n",
       "      <td>NaN</td>\n",
       "      <td>Vehicle</td>\n",
       "      <td>ON</td>\n",
       "    </tr>\n",
       "    <tr>\n",
       "      <th>40</th>\n",
       "      <td>41</td>\n",
       "      <td>F41</td>\n",
       "      <td>Current</td>\n",
       "      <td>320.04</td>\n",
       "      <td>2014-06-30 12:00:00</td>\n",
       "      <td>NaN</td>\n",
       "      <td>Vehicle</td>\n",
       "      <td>Other Provinces</td>\n",
       "    </tr>\n",
       "    <tr>\n",
       "      <th>41</th>\n",
       "      <td>42</td>\n",
       "      <td>F42</td>\n",
       "      <td>Current</td>\n",
       "      <td>2603.89</td>\n",
       "      <td>2014-06-30 12:00:00</td>\n",
       "      <td>NaN</td>\n",
       "      <td>Vehicle</td>\n",
       "      <td>BC</td>\n",
       "    </tr>\n",
       "    <tr>\n",
       "      <th>42</th>\n",
       "      <td>43</td>\n",
       "      <td>F43</td>\n",
       "      <td>Current</td>\n",
       "      <td>2439.14</td>\n",
       "      <td>2014-06-30 12:00:00</td>\n",
       "      <td>NaN</td>\n",
       "      <td>Vehicle</td>\n",
       "      <td>Other Provinces</td>\n",
       "    </tr>\n",
       "    <tr>\n",
       "      <th>43</th>\n",
       "      <td>44</td>\n",
       "      <td>F44</td>\n",
       "      <td>Current</td>\n",
       "      <td>455.69</td>\n",
       "      <td>2014-06-30 12:00:00</td>\n",
       "      <td>NaN</td>\n",
       "      <td>Vehicle</td>\n",
       "      <td>BC</td>\n",
       "    </tr>\n",
       "    <tr>\n",
       "      <th>44</th>\n",
       "      <td>45</td>\n",
       "      <td>F45</td>\n",
       "      <td>Current</td>\n",
       "      <td>162.47</td>\n",
       "      <td>2014-06-30 12:00:00</td>\n",
       "      <td>NaN</td>\n",
       "      <td>Vehicle</td>\n",
       "      <td>ON</td>\n",
       "    </tr>\n",
       "    <tr>\n",
       "      <th>45</th>\n",
       "      <td>46</td>\n",
       "      <td>F46</td>\n",
       "      <td>Current</td>\n",
       "      <td>882.87</td>\n",
       "      <td>2014-06-30 12:00:00</td>\n",
       "      <td>NaN</td>\n",
       "      <td>Vehicle</td>\n",
       "      <td>AB</td>\n",
       "    </tr>\n",
       "    <tr>\n",
       "      <th>46</th>\n",
       "      <td>47</td>\n",
       "      <td>F47</td>\n",
       "      <td>Current</td>\n",
       "      <td>464.48</td>\n",
       "      <td>2014-06-30 12:00:00</td>\n",
       "      <td>NaN</td>\n",
       "      <td>Vehicle</td>\n",
       "      <td>ON</td>\n",
       "    </tr>\n",
       "    <tr>\n",
       "      <th>47</th>\n",
       "      <td>48</td>\n",
       "      <td>F48</td>\n",
       "      <td>Current</td>\n",
       "      <td>1474.01</td>\n",
       "      <td>2014-06-30 12:00:00</td>\n",
       "      <td>NaN</td>\n",
       "      <td>Vehicle</td>\n",
       "      <td>AB</td>\n",
       "    </tr>\n",
       "    <tr>\n",
       "      <th>48</th>\n",
       "      <td>49</td>\n",
       "      <td>F49</td>\n",
       "      <td>Current</td>\n",
       "      <td>422.70</td>\n",
       "      <td>2014-06-30 12:00:00</td>\n",
       "      <td>NaN</td>\n",
       "      <td>Vehicle</td>\n",
       "      <td>ON</td>\n",
       "    </tr>\n",
       "    <tr>\n",
       "      <th>49</th>\n",
       "      <td>50</td>\n",
       "      <td>F50</td>\n",
       "      <td>Current</td>\n",
       "      <td>1010.10</td>\n",
       "      <td>2014-06-30 12:00:00</td>\n",
       "      <td>NaN</td>\n",
       "      <td>Vehicle</td>\n",
       "      <td>Other Provinces</td>\n",
       "    </tr>\n",
       "  </tbody>\n",
       "</table>\n",
       "</div>"
      ],
      "text/plain": [
       "    Unnamed: 0   ID Dlq_stat  amounts             obs_date  Dlq_days  \\\n",
       "0            1   F1  Current   389.63  2014-06-30 12:00:00       NaN   \n",
       "1            2   F2  Current  2446.13  2014-06-30 12:00:00       NaN   \n",
       "2            3   F3  Current  2874.37  2014-06-30 12:00:00       NaN   \n",
       "3            4   F4  Current   299.63  2014-06-30 12:00:00       NaN   \n",
       "4            5   F5  Current   745.46  2014-06-30 12:00:00       NaN   \n",
       "5            6   F6  Current   292.90  2014-06-30 12:00:00       NaN   \n",
       "6            7   F7  Current  1913.26  2014-06-30 12:00:00       NaN   \n",
       "7            8   F8  Current  2749.59  2014-06-30 12:00:00       NaN   \n",
       "8            9   F9  Current  1638.36  2014-06-30 12:00:00       NaN   \n",
       "9           10  F10  Current 10432.11  2014-06-30 12:00:00       NaN   \n",
       "10          11  F11  Current  1765.47  2014-06-30 12:00:00       NaN   \n",
       "11          12  F12  Current  1061.07  2014-06-30 12:00:00       NaN   \n",
       "12          13  F13  Current   873.63  2014-06-30 12:00:00       NaN   \n",
       "13          14  F14  Current  3048.32  2014-06-30 12:00:00       NaN   \n",
       "14          15  F15  Current  4080.97  2014-06-30 12:00:00       NaN   \n",
       "15          16  F16  Current  1579.95  2014-06-30 12:00:00       NaN   \n",
       "16          17  F17  Current   523.79  2014-06-30 12:00:00       NaN   \n",
       "17          18  F18  Current   498.62  2014-06-30 12:00:00       NaN   \n",
       "18          19  F19  Current   739.86  2014-06-30 12:00:00       NaN   \n",
       "19          20  F20  Current  3612.81  2014-06-30 12:00:00       NaN   \n",
       "20          21  F21  Current   652.74  2014-06-30 12:00:00       NaN   \n",
       "21          22  F22  Current  2898.34  2014-06-30 12:00:00       NaN   \n",
       "22          23  F23  Current  1295.19  2014-06-30 12:00:00       NaN   \n",
       "23          24  F24  Current   862.57  2014-06-30 12:00:00       NaN   \n",
       "24          25  F25  Current  1066.39  2014-06-30 12:00:00       NaN   \n",
       "25          26  F26  Current  4795.19  2014-06-30 12:00:00       NaN   \n",
       "26          27  F27  Current   880.03  2014-06-30 12:00:00       NaN   \n",
       "27          28  F28  Current  1640.21  2014-06-30 12:00:00       NaN   \n",
       "28          29  F29  Current   456.26  2014-06-30 12:00:00       NaN   \n",
       "29          30  F30  Current   315.40  2014-06-30 12:00:00       NaN   \n",
       "30          31  F31  Current  1848.63  2014-06-30 12:00:00       NaN   \n",
       "31          32  F32  Current   416.41  2014-06-30 12:00:00       NaN   \n",
       "32          33  F33  Current   580.49  2014-06-30 12:00:00       NaN   \n",
       "33          34  F34  Current   561.72  2014-06-30 12:00:00       NaN   \n",
       "34          35  F35  Current  3020.86  2014-06-30 12:00:00       NaN   \n",
       "35          36  F36  Current  2929.33  2014-06-30 12:00:00       NaN   \n",
       "36          37  F37  Current  1033.09  2014-06-30 12:00:00       NaN   \n",
       "37          38  F38  Current   920.89  2014-06-30 12:00:00       NaN   \n",
       "38          39  F39  Current  2153.80  2014-06-30 12:00:00       NaN   \n",
       "39          40  F40  Current   625.60  2014-06-30 12:00:00       NaN   \n",
       "40          41  F41  Current   320.04  2014-06-30 12:00:00       NaN   \n",
       "41          42  F42  Current  2603.89  2014-06-30 12:00:00       NaN   \n",
       "42          43  F43  Current  2439.14  2014-06-30 12:00:00       NaN   \n",
       "43          44  F44  Current   455.69  2014-06-30 12:00:00       NaN   \n",
       "44          45  F45  Current   162.47  2014-06-30 12:00:00       NaN   \n",
       "45          46  F46  Current   882.87  2014-06-30 12:00:00       NaN   \n",
       "46          47  F47  Current   464.48  2014-06-30 12:00:00       NaN   \n",
       "47          48  F48  Current  1474.01  2014-06-30 12:00:00       NaN   \n",
       "48          49  F49  Current   422.70  2014-06-30 12:00:00       NaN   \n",
       "49          50  F50  Current  1010.10  2014-06-30 12:00:00       NaN   \n",
       "\n",
       "           Vertical1        Province1  \n",
       "0   Home Improvement               ON  \n",
       "1            Vehicle               AB  \n",
       "2   Home Improvement               ON  \n",
       "3   Home Improvement               ON  \n",
       "4   Home Improvement  Other Provinces  \n",
       "5   Home Improvement               ON  \n",
       "6   Home Improvement               ON  \n",
       "7            Vehicle               AB  \n",
       "8   Home Improvement               ON  \n",
       "9            Vehicle               AB  \n",
       "10           Vehicle               ON  \n",
       "11           Vehicle               BC  \n",
       "12           Vehicle               AB  \n",
       "13           Vehicle               AB  \n",
       "14           Vehicle               AB  \n",
       "15           Vehicle               AB  \n",
       "16           Vehicle  Other Provinces  \n",
       "17           Vehicle  Other Provinces  \n",
       "18           Vehicle               AB  \n",
       "19           Vehicle               AB  \n",
       "20           Vehicle  Other Provinces  \n",
       "21           Vehicle               AB  \n",
       "22           Vehicle               BC  \n",
       "23           Vehicle  Other Provinces  \n",
       "24           Vehicle               AB  \n",
       "25           Vehicle               AB  \n",
       "26           Vehicle               AB  \n",
       "27           Vehicle               AB  \n",
       "28           Vehicle               BC  \n",
       "29           Vehicle  Other Provinces  \n",
       "30           Vehicle               ON  \n",
       "31           Vehicle  Other Provinces  \n",
       "32           Vehicle               BC  \n",
       "33           Vehicle               BC  \n",
       "34           Vehicle               AB  \n",
       "35           Vehicle               ON  \n",
       "36           Vehicle               AB  \n",
       "37           Vehicle  Other Provinces  \n",
       "38           Vehicle  Other Provinces  \n",
       "39           Vehicle               ON  \n",
       "40           Vehicle  Other Provinces  \n",
       "41           Vehicle               BC  \n",
       "42           Vehicle  Other Provinces  \n",
       "43           Vehicle               BC  \n",
       "44           Vehicle               ON  \n",
       "45           Vehicle               AB  \n",
       "46           Vehicle               ON  \n",
       "47           Vehicle               AB  \n",
       "48           Vehicle               ON  \n",
       "49           Vehicle  Other Provinces  "
      ]
     },
     "execution_count": 3,
     "metadata": {},
     "output_type": "execute_result"
    }
   ],
   "source": [
    "df1.head(50)"
   ]
  },
  {
   "cell_type": "code",
   "execution_count": 138,
   "id": "612ccef4",
   "metadata": {},
   "outputs": [],
   "source": [
    "df2 = pd.read_csv('Test_Data_C_2014_07_30.csv')"
   ]
  },
  {
   "cell_type": "code",
   "execution_count": 15,
   "id": "9725eb7e",
   "metadata": {},
   "outputs": [],
   "source": [
    "#df2"
   ]
  },
  {
   "cell_type": "code",
   "execution_count": 140,
   "id": "1902a6f1",
   "metadata": {},
   "outputs": [],
   "source": [
    "df3 = pd.read_csv('Test_Data_C_2014_08_30.csv')"
   ]
  },
  {
   "cell_type": "code",
   "execution_count": 16,
   "id": "d142caab",
   "metadata": {
    "scrolled": true
   },
   "outputs": [],
   "source": [
    "#df3"
   ]
  },
  {
   "cell_type": "code",
   "execution_count": 12,
   "id": "24e623f0",
   "metadata": {},
   "outputs": [
    {
     "data": {
      "text/plain": [
       "(13386, 8)"
      ]
     },
     "execution_count": 12,
     "metadata": {},
     "output_type": "execute_result"
    }
   ],
   "source": [
    "df1.shape"
   ]
  },
  {
   "cell_type": "code",
   "execution_count": 13,
   "id": "568fc9a3",
   "metadata": {},
   "outputs": [
    {
     "data": {
      "text/plain": [
       "(13180, 8)"
      ]
     },
     "execution_count": 13,
     "metadata": {},
     "output_type": "execute_result"
    }
   ],
   "source": [
    "df2.shape"
   ]
  },
  {
   "cell_type": "code",
   "execution_count": 14,
   "id": "2e908da4",
   "metadata": {},
   "outputs": [
    {
     "data": {
      "text/plain": [
       "(13829, 8)"
      ]
     },
     "execution_count": 14,
     "metadata": {},
     "output_type": "execute_result"
    }
   ],
   "source": [
    "df3.shape"
   ]
  },
  {
   "cell_type": "code",
   "execution_count": 58,
   "id": "172581b6",
   "metadata": {},
   "outputs": [
    {
     "name": "stdout",
     "output_type": "stream",
     "text": [
      "<class 'pandas.core.frame.DataFrame'>\n",
      "RangeIndex: 13386 entries, 0 to 13385\n",
      "Data columns (total 8 columns):\n",
      " #   Column      Non-Null Count  Dtype  \n",
      "---  ------      --------------  -----  \n",
      " 0   Unnamed: 0  13386 non-null  int64  \n",
      " 1   ID          13386 non-null  object \n",
      " 2   Dlq_stat    13386 non-null  object \n",
      " 3   amounts     13386 non-null  float64\n",
      " 4   obs_date    13386 non-null  object \n",
      " 5   Dlq_days    105 non-null    float64\n",
      " 6   Vertical1   13386 non-null  object \n",
      " 7   Province1   13386 non-null  object \n",
      "dtypes: float64(2), int64(1), object(5)\n",
      "memory usage: 836.8+ KB\n"
     ]
    }
   ],
   "source": [
    "df1.info()"
   ]
  },
  {
   "cell_type": "code",
   "execution_count": 9,
   "id": "2c82d46f",
   "metadata": {},
   "outputs": [
    {
     "name": "stdout",
     "output_type": "stream",
     "text": [
      "<class 'pandas.core.frame.DataFrame'>\n",
      "RangeIndex: 13180 entries, 0 to 13179\n",
      "Data columns (total 8 columns):\n",
      " #   Column      Non-Null Count  Dtype  \n",
      "---  ------      --------------  -----  \n",
      " 0   Unnamed: 0  13180 non-null  int64  \n",
      " 1   ID          13180 non-null  object \n",
      " 2   Dlq_stat    13180 non-null  object \n",
      " 3   amounts     13180 non-null  float64\n",
      " 4   obs_date    13180 non-null  object \n",
      " 5   Dlq_days    94 non-null     float64\n",
      " 6   Vertical1   13180 non-null  object \n",
      " 7   Province1   13180 non-null  object \n",
      "dtypes: float64(2), int64(1), object(5)\n",
      "memory usage: 823.9+ KB\n"
     ]
    }
   ],
   "source": [
    "df2.info()"
   ]
  },
  {
   "cell_type": "code",
   "execution_count": 10,
   "id": "a15847db",
   "metadata": {},
   "outputs": [
    {
     "name": "stdout",
     "output_type": "stream",
     "text": [
      "<class 'pandas.core.frame.DataFrame'>\n",
      "RangeIndex: 13829 entries, 0 to 13828\n",
      "Data columns (total 8 columns):\n",
      " #   Column      Non-Null Count  Dtype  \n",
      "---  ------      --------------  -----  \n",
      " 0   Unnamed: 0  13829 non-null  int64  \n",
      " 1   ID          13829 non-null  object \n",
      " 2   Dlq_stat    13829 non-null  object \n",
      " 3   amounts     13829 non-null  float64\n",
      " 4   obs_date    13829 non-null  object \n",
      " 5   Dlq_days    150 non-null    float64\n",
      " 6   Vertical1   13829 non-null  object \n",
      " 7   Province1   13829 non-null  object \n",
      "dtypes: float64(2), int64(1), object(5)\n",
      "memory usage: 864.4+ KB\n"
     ]
    }
   ],
   "source": [
    "df3.info()"
   ]
  },
  {
   "cell_type": "code",
   "execution_count": 59,
   "id": "07b0d50e",
   "metadata": {},
   "outputs": [
    {
     "data": {
      "text/html": [
       "<div>\n",
       "<style scoped>\n",
       "    .dataframe tbody tr th:only-of-type {\n",
       "        vertical-align: middle;\n",
       "    }\n",
       "\n",
       "    .dataframe tbody tr th {\n",
       "        vertical-align: top;\n",
       "    }\n",
       "\n",
       "    .dataframe thead th {\n",
       "        text-align: right;\n",
       "    }\n",
       "</style>\n",
       "<table border=\"1\" class=\"dataframe\">\n",
       "  <thead>\n",
       "    <tr style=\"text-align: right;\">\n",
       "      <th></th>\n",
       "      <th>Unnamed: 0</th>\n",
       "      <th>amounts</th>\n",
       "      <th>Dlq_days</th>\n",
       "    </tr>\n",
       "  </thead>\n",
       "  <tbody>\n",
       "    <tr>\n",
       "      <th>count</th>\n",
       "      <td>13386.00</td>\n",
       "      <td>13386.00</td>\n",
       "      <td>105.00</td>\n",
       "    </tr>\n",
       "    <tr>\n",
       "      <th>mean</th>\n",
       "      <td>6749.08</td>\n",
       "      <td>1954.16</td>\n",
       "      <td>26.10</td>\n",
       "    </tr>\n",
       "    <tr>\n",
       "      <th>std</th>\n",
       "      <td>4394.21</td>\n",
       "      <td>1792.65</td>\n",
       "      <td>25.89</td>\n",
       "    </tr>\n",
       "    <tr>\n",
       "      <th>min</th>\n",
       "      <td>1.00</td>\n",
       "      <td>0.00</td>\n",
       "      <td>0.00</td>\n",
       "    </tr>\n",
       "    <tr>\n",
       "      <th>25%</th>\n",
       "      <td>3347.25</td>\n",
       "      <td>857.59</td>\n",
       "      <td>4.00</td>\n",
       "    </tr>\n",
       "    <tr>\n",
       "      <th>50%</th>\n",
       "      <td>6693.50</td>\n",
       "      <td>1460.78</td>\n",
       "      <td>15.00</td>\n",
       "    </tr>\n",
       "    <tr>\n",
       "      <th>75%</th>\n",
       "      <td>10039.75</td>\n",
       "      <td>2356.99</td>\n",
       "      <td>46.00</td>\n",
       "    </tr>\n",
       "    <tr>\n",
       "      <th>max</th>\n",
       "      <td>121000.00</td>\n",
       "      <td>16611.38</td>\n",
       "      <td>79.00</td>\n",
       "    </tr>\n",
       "  </tbody>\n",
       "</table>\n",
       "</div>"
      ],
      "text/plain": [
       "       Unnamed: 0  amounts  Dlq_days\n",
       "count    13386.00 13386.00    105.00\n",
       "mean      6749.08  1954.16     26.10\n",
       "std       4394.21  1792.65     25.89\n",
       "min          1.00     0.00      0.00\n",
       "25%       3347.25   857.59      4.00\n",
       "50%       6693.50  1460.78     15.00\n",
       "75%      10039.75  2356.99     46.00\n",
       "max     121000.00 16611.38     79.00"
      ]
     },
     "execution_count": 59,
     "metadata": {},
     "output_type": "execute_result"
    }
   ],
   "source": [
    "#numeric features\n",
    "df1.describe()"
   ]
  },
  {
   "cell_type": "code",
   "execution_count": 60,
   "id": "0f88722f",
   "metadata": {},
   "outputs": [
    {
     "data": {
      "text/html": [
       "<div>\n",
       "<style scoped>\n",
       "    .dataframe tbody tr th:only-of-type {\n",
       "        vertical-align: middle;\n",
       "    }\n",
       "\n",
       "    .dataframe tbody tr th {\n",
       "        vertical-align: top;\n",
       "    }\n",
       "\n",
       "    .dataframe thead th {\n",
       "        text-align: right;\n",
       "    }\n",
       "</style>\n",
       "<table border=\"1\" class=\"dataframe\">\n",
       "  <thead>\n",
       "    <tr style=\"text-align: right;\">\n",
       "      <th></th>\n",
       "      <th>Unnamed: 0</th>\n",
       "      <th>amounts</th>\n",
       "      <th>Dlq_days</th>\n",
       "    </tr>\n",
       "  </thead>\n",
       "  <tbody>\n",
       "    <tr>\n",
       "      <th>count</th>\n",
       "      <td>13180.00</td>\n",
       "      <td>13180.00</td>\n",
       "      <td>94.00</td>\n",
       "    </tr>\n",
       "    <tr>\n",
       "      <th>mean</th>\n",
       "      <td>6640.84</td>\n",
       "      <td>1941.30</td>\n",
       "      <td>31.98</td>\n",
       "    </tr>\n",
       "    <tr>\n",
       "      <th>std</th>\n",
       "      <td>4323.45</td>\n",
       "      <td>1790.08</td>\n",
       "      <td>28.18</td>\n",
       "    </tr>\n",
       "    <tr>\n",
       "      <th>min</th>\n",
       "      <td>1.00</td>\n",
       "      <td>0.00</td>\n",
       "      <td>0.00</td>\n",
       "    </tr>\n",
       "    <tr>\n",
       "      <th>25%</th>\n",
       "      <td>3295.75</td>\n",
       "      <td>846.34</td>\n",
       "      <td>7.00</td>\n",
       "    </tr>\n",
       "    <tr>\n",
       "      <th>50%</th>\n",
       "      <td>6590.50</td>\n",
       "      <td>1445.85</td>\n",
       "      <td>18.00</td>\n",
       "    </tr>\n",
       "    <tr>\n",
       "      <th>75%</th>\n",
       "      <td>9885.25</td>\n",
       "      <td>2341.04</td>\n",
       "      <td>58.75</td>\n",
       "    </tr>\n",
       "    <tr>\n",
       "      <th>max</th>\n",
       "      <td>121000.00</td>\n",
       "      <td>16557.14</td>\n",
       "      <td>110.00</td>\n",
       "    </tr>\n",
       "  </tbody>\n",
       "</table>\n",
       "</div>"
      ],
      "text/plain": [
       "       Unnamed: 0  amounts  Dlq_days\n",
       "count    13180.00 13180.00     94.00\n",
       "mean      6640.84  1941.30     31.98\n",
       "std       4323.45  1790.08     28.18\n",
       "min          1.00     0.00      0.00\n",
       "25%       3295.75   846.34      7.00\n",
       "50%       6590.50  1445.85     18.00\n",
       "75%       9885.25  2341.04     58.75\n",
       "max     121000.00 16557.14    110.00"
      ]
     },
     "execution_count": 60,
     "metadata": {},
     "output_type": "execute_result"
    }
   ],
   "source": [
    "#numeric features\n",
    "df2.describe()"
   ]
  },
  {
   "cell_type": "code",
   "execution_count": 130,
   "id": "ea932122",
   "metadata": {},
   "outputs": [
    {
     "data": {
      "text/html": [
       "<div>\n",
       "<style scoped>\n",
       "    .dataframe tbody tr th:only-of-type {\n",
       "        vertical-align: middle;\n",
       "    }\n",
       "\n",
       "    .dataframe tbody tr th {\n",
       "        vertical-align: top;\n",
       "    }\n",
       "\n",
       "    .dataframe thead th {\n",
       "        text-align: right;\n",
       "    }\n",
       "</style>\n",
       "<table border=\"1\" class=\"dataframe\">\n",
       "  <thead>\n",
       "    <tr style=\"text-align: right;\">\n",
       "      <th></th>\n",
       "      <th>Unnamed: 0</th>\n",
       "      <th>amounts</th>\n",
       "      <th>Dlq_days</th>\n",
       "    </tr>\n",
       "  </thead>\n",
       "  <tbody>\n",
       "    <tr>\n",
       "      <th>count</th>\n",
       "      <td>13829.00</td>\n",
       "      <td>13829.00</td>\n",
       "      <td>150.00</td>\n",
       "    </tr>\n",
       "    <tr>\n",
       "      <th>mean</th>\n",
       "      <td>6981.74</td>\n",
       "      <td>1933.38</td>\n",
       "      <td>24.57</td>\n",
       "    </tr>\n",
       "    <tr>\n",
       "      <th>std</th>\n",
       "      <td>4539.33</td>\n",
       "      <td>1770.63</td>\n",
       "      <td>21.86</td>\n",
       "    </tr>\n",
       "    <tr>\n",
       "      <th>min</th>\n",
       "      <td>1.00</td>\n",
       "      <td>0.00</td>\n",
       "      <td>0.00</td>\n",
       "    </tr>\n",
       "    <tr>\n",
       "      <th>25%</th>\n",
       "      <td>3458.00</td>\n",
       "      <td>850.54</td>\n",
       "      <td>7.00</td>\n",
       "    </tr>\n",
       "    <tr>\n",
       "      <th>50%</th>\n",
       "      <td>6915.00</td>\n",
       "      <td>1450.31</td>\n",
       "      <td>19.00</td>\n",
       "    </tr>\n",
       "    <tr>\n",
       "      <th>75%</th>\n",
       "      <td>10372.00</td>\n",
       "      <td>2328.59</td>\n",
       "      <td>35.00</td>\n",
       "    </tr>\n",
       "    <tr>\n",
       "      <th>max</th>\n",
       "      <td>121000.00</td>\n",
       "      <td>16637.15</td>\n",
       "      <td>90.00</td>\n",
       "    </tr>\n",
       "  </tbody>\n",
       "</table>\n",
       "</div>"
      ],
      "text/plain": [
       "       Unnamed: 0  amounts  Dlq_days\n",
       "count    13829.00 13829.00    150.00\n",
       "mean      6981.74  1933.38     24.57\n",
       "std       4539.33  1770.63     21.86\n",
       "min          1.00     0.00      0.00\n",
       "25%       3458.00   850.54      7.00\n",
       "50%       6915.00  1450.31     19.00\n",
       "75%      10372.00  2328.59     35.00\n",
       "max     121000.00 16637.15     90.00"
      ]
     },
     "execution_count": 130,
     "metadata": {},
     "output_type": "execute_result"
    }
   ],
   "source": [
    "#numeric features\n",
    "df3.describe()"
   ]
  },
  {
   "cell_type": "code",
   "execution_count": 61,
   "id": "6c3195bf",
   "metadata": {},
   "outputs": [
    {
     "data": {
      "text/html": [
       "<div>\n",
       "<style scoped>\n",
       "    .dataframe tbody tr th:only-of-type {\n",
       "        vertical-align: middle;\n",
       "    }\n",
       "\n",
       "    .dataframe tbody tr th {\n",
       "        vertical-align: top;\n",
       "    }\n",
       "\n",
       "    .dataframe thead th {\n",
       "        text-align: right;\n",
       "    }\n",
       "</style>\n",
       "<table border=\"1\" class=\"dataframe\">\n",
       "  <thead>\n",
       "    <tr style=\"text-align: right;\">\n",
       "      <th></th>\n",
       "      <th>ID</th>\n",
       "      <th>Dlq_stat</th>\n",
       "      <th>obs_date</th>\n",
       "      <th>Vertical1</th>\n",
       "      <th>Province1</th>\n",
       "    </tr>\n",
       "  </thead>\n",
       "  <tbody>\n",
       "    <tr>\n",
       "      <th>count</th>\n",
       "      <td>13386</td>\n",
       "      <td>13386</td>\n",
       "      <td>13386</td>\n",
       "      <td>13386</td>\n",
       "      <td>13386</td>\n",
       "    </tr>\n",
       "    <tr>\n",
       "      <th>unique</th>\n",
       "      <td>13386</td>\n",
       "      <td>3</td>\n",
       "      <td>1</td>\n",
       "      <td>2</td>\n",
       "      <td>4</td>\n",
       "    </tr>\n",
       "    <tr>\n",
       "      <th>top</th>\n",
       "      <td>F1</td>\n",
       "      <td>Current</td>\n",
       "      <td>2014-06-30 12:00:00</td>\n",
       "      <td>Vehicle</td>\n",
       "      <td>ON</td>\n",
       "    </tr>\n",
       "    <tr>\n",
       "      <th>freq</th>\n",
       "      <td>1</td>\n",
       "      <td>13272</td>\n",
       "      <td>13386</td>\n",
       "      <td>7099</td>\n",
       "      <td>4604</td>\n",
       "    </tr>\n",
       "  </tbody>\n",
       "</table>\n",
       "</div>"
      ],
      "text/plain": [
       "           ID Dlq_stat             obs_date Vertical1 Province1\n",
       "count   13386    13386                13386     13386     13386\n",
       "unique  13386        3                    1         2         4\n",
       "top        F1  Current  2014-06-30 12:00:00   Vehicle        ON\n",
       "freq        1    13272                13386      7099      4604"
      ]
     },
     "execution_count": 61,
     "metadata": {},
     "output_type": "execute_result"
    }
   ],
   "source": [
    "# categorical features\n",
    "df1.describe(include='O')"
   ]
  },
  {
   "cell_type": "code",
   "execution_count": 132,
   "id": "c44e7e48",
   "metadata": {},
   "outputs": [
    {
     "data": {
      "text/html": [
       "<div>\n",
       "<style scoped>\n",
       "    .dataframe tbody tr th:only-of-type {\n",
       "        vertical-align: middle;\n",
       "    }\n",
       "\n",
       "    .dataframe tbody tr th {\n",
       "        vertical-align: top;\n",
       "    }\n",
       "\n",
       "    .dataframe thead th {\n",
       "        text-align: right;\n",
       "    }\n",
       "</style>\n",
       "<table border=\"1\" class=\"dataframe\">\n",
       "  <thead>\n",
       "    <tr style=\"text-align: right;\">\n",
       "      <th></th>\n",
       "      <th>ID</th>\n",
       "      <th>Dlq_stat</th>\n",
       "      <th>obs_date</th>\n",
       "      <th>Vertical1</th>\n",
       "      <th>Province1</th>\n",
       "    </tr>\n",
       "  </thead>\n",
       "  <tbody>\n",
       "    <tr>\n",
       "      <th>count</th>\n",
       "      <td>13180</td>\n",
       "      <td>13180</td>\n",
       "      <td>13180</td>\n",
       "      <td>13180</td>\n",
       "      <td>13180</td>\n",
       "    </tr>\n",
       "    <tr>\n",
       "      <th>unique</th>\n",
       "      <td>13180</td>\n",
       "      <td>3</td>\n",
       "      <td>1</td>\n",
       "      <td>2</td>\n",
       "      <td>4</td>\n",
       "    </tr>\n",
       "    <tr>\n",
       "      <th>top</th>\n",
       "      <td>G1</td>\n",
       "      <td>Current</td>\n",
       "      <td>2014-07-30 12:00:00</td>\n",
       "      <td>Vehicle</td>\n",
       "      <td>ON</td>\n",
       "    </tr>\n",
       "    <tr>\n",
       "      <th>freq</th>\n",
       "      <td>1</td>\n",
       "      <td>13072</td>\n",
       "      <td>13180</td>\n",
       "      <td>6979</td>\n",
       "      <td>4516</td>\n",
       "    </tr>\n",
       "  </tbody>\n",
       "</table>\n",
       "</div>"
      ],
      "text/plain": [
       "           ID Dlq_stat             obs_date Vertical1 Province1\n",
       "count   13180    13180                13180     13180     13180\n",
       "unique  13180        3                    1         2         4\n",
       "top        G1  Current  2014-07-30 12:00:00   Vehicle        ON\n",
       "freq        1    13072                13180      6979      4516"
      ]
     },
     "execution_count": 132,
     "metadata": {},
     "output_type": "execute_result"
    }
   ],
   "source": [
    "# categorical features\n",
    "df2.describe(include='O')"
   ]
  },
  {
   "cell_type": "code",
   "execution_count": 133,
   "id": "308f723d",
   "metadata": {},
   "outputs": [
    {
     "data": {
      "text/html": [
       "<div>\n",
       "<style scoped>\n",
       "    .dataframe tbody tr th:only-of-type {\n",
       "        vertical-align: middle;\n",
       "    }\n",
       "\n",
       "    .dataframe tbody tr th {\n",
       "        vertical-align: top;\n",
       "    }\n",
       "\n",
       "    .dataframe thead th {\n",
       "        text-align: right;\n",
       "    }\n",
       "</style>\n",
       "<table border=\"1\" class=\"dataframe\">\n",
       "  <thead>\n",
       "    <tr style=\"text-align: right;\">\n",
       "      <th></th>\n",
       "      <th>ID</th>\n",
       "      <th>Dlq_stat</th>\n",
       "      <th>obs_date</th>\n",
       "      <th>Vertical1</th>\n",
       "      <th>Province1</th>\n",
       "    </tr>\n",
       "  </thead>\n",
       "  <tbody>\n",
       "    <tr>\n",
       "      <th>count</th>\n",
       "      <td>13829</td>\n",
       "      <td>13829</td>\n",
       "      <td>13829</td>\n",
       "      <td>13829</td>\n",
       "      <td>13829</td>\n",
       "    </tr>\n",
       "    <tr>\n",
       "      <th>unique</th>\n",
       "      <td>13829</td>\n",
       "      <td>3</td>\n",
       "      <td>1</td>\n",
       "      <td>2</td>\n",
       "      <td>4</td>\n",
       "    </tr>\n",
       "    <tr>\n",
       "      <th>top</th>\n",
       "      <td>H1</td>\n",
       "      <td>Current</td>\n",
       "      <td>2014-08-30 12:00:00</td>\n",
       "      <td>Home Improvement</td>\n",
       "      <td>ON</td>\n",
       "    </tr>\n",
       "    <tr>\n",
       "      <th>freq</th>\n",
       "      <td>1</td>\n",
       "      <td>13659</td>\n",
       "      <td>13829</td>\n",
       "      <td>6915</td>\n",
       "      <td>4811</td>\n",
       "    </tr>\n",
       "  </tbody>\n",
       "</table>\n",
       "</div>"
      ],
      "text/plain": [
       "           ID Dlq_stat             obs_date         Vertical1 Province1\n",
       "count   13829    13829                13829             13829     13829\n",
       "unique  13829        3                    1                 2         4\n",
       "top        H1  Current  2014-08-30 12:00:00  Home Improvement        ON\n",
       "freq        1    13659                13829              6915      4811"
      ]
     },
     "execution_count": 133,
     "metadata": {},
     "output_type": "execute_result"
    }
   ],
   "source": [
    "# categorical features\n",
    "df3.describe(include='O')"
   ]
  },
  {
   "cell_type": "code",
   "execution_count": 62,
   "id": "19ff20bc",
   "metadata": {},
   "outputs": [
    {
     "data": {
      "text/plain": [
       "Dlq_stat\n",
       "Current       13272\n",
       "Delinquent      105\n",
       "WriteOff          9\n",
       "Name: count, dtype: int64"
      ]
     },
     "execution_count": 62,
     "metadata": {},
     "output_type": "execute_result"
    }
   ],
   "source": [
    "# as always let's briefly look at the label\n",
    "# it's imbalanced, so we'll need to address that\n",
    "df1['Dlq_stat'].value_counts()"
   ]
  },
  {
   "cell_type": "code",
   "execution_count": 15,
   "id": "2d47c51b",
   "metadata": {},
   "outputs": [
    {
     "data": {
      "text/plain": [
       "Dlq_stat\n",
       "Current      0.99\n",
       "Delinquent   0.01\n",
       "WriteOff     0.00\n",
       "Name: proportion, dtype: float64"
      ]
     },
     "execution_count": 15,
     "metadata": {},
     "output_type": "execute_result"
    }
   ],
   "source": [
    "df1['Dlq_stat'].value_counts(normalize=True)"
   ]
  },
  {
   "cell_type": "code",
   "execution_count": 63,
   "id": "cf6b85b9",
   "metadata": {},
   "outputs": [
    {
     "data": {
      "image/png": "[encoded data removed]",
      "text/plain": [
       "<Figure size 640x480 with 1 Axes>"
      ]
     },
     "metadata": {},
     "output_type": "display_data"
    }
   ],
   "source": [
    "df1['Dlq_stat'].value_counts(normalize=True).plot(kind='bar',title='Dlq_stat', color = ['blue','red','green','yellow','orange'])\n",
    "plt.xlabel('Dlq_stat')\n",
    "plt.ylabel('Frequency');"
   ]
  },
  {
   "cell_type": "code",
   "execution_count": null,
   "id": "5bda6f0f",
   "metadata": {},
   "outputs": [],
   "source": []
  },
  {
   "cell_type": "code",
   "execution_count": 17,
   "id": "b047e6d7",
   "metadata": {},
   "outputs": [
    {
     "data": {
      "text/plain": [
       "Dlq_stat\n",
       "Current       13072\n",
       "Delinquent       94\n",
       "WriteOff         14\n",
       "Name: count, dtype: int64"
      ]
     },
     "execution_count": 17,
     "metadata": {},
     "output_type": "execute_result"
    }
   ],
   "source": [
    "df2['Dlq_stat'].value_counts()"
   ]
  },
  {
   "cell_type": "code",
   "execution_count": 18,
   "id": "0fe3d67a",
   "metadata": {},
   "outputs": [
    {
     "data": {
      "text/plain": [
       "Dlq_stat\n",
       "Current      0.99\n",
       "Delinquent   0.01\n",
       "WriteOff     0.00\n",
       "Name: proportion, dtype: float64"
      ]
     },
     "execution_count": 18,
     "metadata": {},
     "output_type": "execute_result"
    }
   ],
   "source": [
    "df2['Dlq_stat'].value_counts(normalize=True)"
   ]
  },
  {
   "cell_type": "code",
   "execution_count": 139,
   "id": "88186793",
   "metadata": {},
   "outputs": [
    {
     "data": {
      "text/plain": [
       "Dlq_stat\n",
       "Current       13659\n",
       "Delinquent      150\n",
       "WriteOff         20\n",
       "Name: count, dtype: int64"
      ]
     },
     "execution_count": 139,
     "metadata": {},
     "output_type": "execute_result"
    }
   ],
   "source": [
    "df3['Dlq_stat'].value_counts()"
   ]
  },
  {
   "cell_type": "code",
   "execution_count": 19,
   "id": "91f6bb0b",
   "metadata": {},
   "outputs": [
    {
     "data": {
      "text/plain": [
       "Dlq_stat\n",
       "Current      0.99\n",
       "Delinquent   0.01\n",
       "WriteOff     0.00\n",
       "Name: proportion, dtype: float64"
      ]
     },
     "execution_count": 19,
     "metadata": {},
     "output_type": "execute_result"
    }
   ],
   "source": [
    "df3['Dlq_stat'].value_counts(normalize=True)\n"
   ]
  },
  {
   "cell_type": "code",
   "execution_count": 20,
   "id": "5b94b10b",
   "metadata": {},
   "outputs": [
    {
     "data": {
      "text/plain": [
       "obs_date\n",
       "2014-06-30 12:00:00    13386\n",
       "Name: count, dtype: int64"
      ]
     },
     "execution_count": 20,
     "metadata": {},
     "output_type": "execute_result"
    }
   ],
   "source": [
    "df1['obs_date'].value_counts()"
   ]
  },
  {
   "cell_type": "code",
   "execution_count": 141,
   "id": "f1dcaf30",
   "metadata": {},
   "outputs": [],
   "source": [
    "# convert fromat from object to datetime64[ns]\n",
    "df1[\"obs_date\"]=pd.to_datetime(df1[\"obs_date\"]) "
   ]
  },
  {
   "cell_type": "code",
   "execution_count": 22,
   "id": "8fc02cef",
   "metadata": {},
   "outputs": [
    {
     "data": {
      "text/plain": [
       "obs_date\n",
       "2014-07-30 12:00:00    13180\n",
       "Name: count, dtype: int64"
      ]
     },
     "execution_count": 22,
     "metadata": {},
     "output_type": "execute_result"
    }
   ],
   "source": [
    "df2['obs_date'].value_counts()"
   ]
  },
  {
   "cell_type": "code",
   "execution_count": 142,
   "id": "7f8fe34f",
   "metadata": {},
   "outputs": [],
   "source": [
    "# convert fromat from object to datetime64[ns]\n",
    "df2[\"obs_date\"]=pd.to_datetime(df2[\"obs_date\"]) "
   ]
  },
  {
   "cell_type": "code",
   "execution_count": 24,
   "id": "0dddbae7",
   "metadata": {},
   "outputs": [
    {
     "data": {
      "text/plain": [
       "obs_date\n",
       "2014-08-30 12:00:00    13829\n",
       "Name: count, dtype: int64"
      ]
     },
     "execution_count": 24,
     "metadata": {},
     "output_type": "execute_result"
    }
   ],
   "source": [
    "df3['obs_date'].value_counts()"
   ]
  },
  {
   "cell_type": "code",
   "execution_count": 143,
   "id": "b34b5575",
   "metadata": {},
   "outputs": [],
   "source": [
    "# convert fromat from object to datetime64[ns]\n",
    "df3[\"obs_date\"]=pd.to_datetime(df3[\"obs_date\"]) "
   ]
  },
  {
   "cell_type": "code",
   "execution_count": 26,
   "id": "90106982",
   "metadata": {},
   "outputs": [
    {
     "data": {
      "text/plain": [
       "Vertical1\n",
       "Vehicle             7099\n",
       "Home Improvement    6287\n",
       "Name: count, dtype: int64"
      ]
     },
     "execution_count": 26,
     "metadata": {},
     "output_type": "execute_result"
    }
   ],
   "source": [
    "df1['Vertical1'].value_counts()"
   ]
  },
  {
   "cell_type": "code",
   "execution_count": 148,
   "id": "028be63c",
   "metadata": {},
   "outputs": [
    {
     "data": {
      "image/png": "[encoded data removed]",
      "text/plain": [
       "<Figure size 640x480 with 1 Axes>"
      ]
     },
     "metadata": {},
     "output_type": "display_data"
    }
   ],
   "source": [
    "df1['Vertical1'].value_counts().plot(kind='bar',title='Vertical1', color = ['blue','red','green','yellow','orange'])\n",
    "plt.xlabel('Vertical1')\n",
    "plt.ylabel('Frequency');"
   ]
  },
  {
   "cell_type": "code",
   "execution_count": null,
   "id": "940027a3",
   "metadata": {},
   "outputs": [],
   "source": []
  },
  {
   "cell_type": "code",
   "execution_count": 27,
   "id": "2d6d4588",
   "metadata": {},
   "outputs": [
    {
     "data": {
      "text/plain": [
       "Vertical1\n",
       "Vehicle             6979\n",
       "Home Improvement    6201\n",
       "Name: count, dtype: int64"
      ]
     },
     "execution_count": 27,
     "metadata": {},
     "output_type": "execute_result"
    }
   ],
   "source": [
    "df2['Vertical1'].value_counts()"
   ]
  },
  {
   "cell_type": "code",
   "execution_count": 28,
   "id": "8022ce32",
   "metadata": {},
   "outputs": [
    {
     "data": {
      "text/plain": [
       "Vertical1\n",
       "Home Improvement    6915\n",
       "Vehicle             6914\n",
       "Name: count, dtype: int64"
      ]
     },
     "execution_count": 28,
     "metadata": {},
     "output_type": "execute_result"
    }
   ],
   "source": [
    "df3['Vertical1'].value_counts()"
   ]
  },
  {
   "cell_type": "code",
   "execution_count": 151,
   "id": "f4f748c8",
   "metadata": {},
   "outputs": [
    {
     "data": {
      "text/plain": [
       "Province1\n",
       "ON                 4604\n",
       "Other Provinces    3482\n",
       "AB                 3112\n",
       "BC                 2188\n",
       "Name: count, dtype: int64"
      ]
     },
     "execution_count": 151,
     "metadata": {},
     "output_type": "execute_result"
    }
   ],
   "source": [
    "df1['Province1'].value_counts()"
   ]
  },
  {
   "cell_type": "code",
   "execution_count": 29,
   "id": "fc271d01",
   "metadata": {},
   "outputs": [
    {
     "data": {
      "image/png": "[encoded data removed]",
      "text/plain": [
       "<Figure size 640x480 with 1 Axes>"
      ]
     },
     "metadata": {},
     "output_type": "display_data"
    }
   ],
   "source": [
    "df1['Province1'].value_counts().plot(kind='bar',title='Province1', color = ['blue','red','green','yellow','orange'])\n",
    "plt.xlabel('Province1')\n",
    "plt.ylabel('Frequency');"
   ]
  },
  {
   "cell_type": "code",
   "execution_count": null,
   "id": "e373ac06",
   "metadata": {},
   "outputs": [],
   "source": []
  },
  {
   "cell_type": "code",
   "execution_count": 153,
   "id": "838781ed",
   "metadata": {},
   "outputs": [
    {
     "data": {
      "text/plain": [
       "Province1\n",
       "ON                 4516\n",
       "Other Provinces    3446\n",
       "AB                 3063\n",
       "BC                 2155\n",
       "Name: count, dtype: int64"
      ]
     },
     "execution_count": 153,
     "metadata": {},
     "output_type": "execute_result"
    }
   ],
   "source": [
    "df2['Province1'].value_counts()"
   ]
  },
  {
   "cell_type": "code",
   "execution_count": 154,
   "id": "268220c8",
   "metadata": {},
   "outputs": [
    {
     "data": {
      "text/plain": [
       "Province1\n",
       "ON                 4811\n",
       "Other Provinces    3581\n",
       "AB                 3233\n",
       "BC                 2204\n",
       "Name: count, dtype: int64"
      ]
     },
     "execution_count": 154,
     "metadata": {},
     "output_type": "execute_result"
    }
   ],
   "source": [
    "df3['Province1'].value_counts()"
   ]
  },
  {
   "cell_type": "code",
   "execution_count": 30,
   "id": "48ad925b",
   "metadata": {},
   "outputs": [
    {
     "data": {
      "text/plain": [
       "Unnamed: 0        0\n",
       "ID                0\n",
       "Dlq_stat          0\n",
       "amounts           0\n",
       "obs_date          0\n",
       "Dlq_days      13281\n",
       "Vertical1         0\n",
       "Province1         0\n",
       "dtype: int64"
      ]
     },
     "execution_count": 30,
     "metadata": {},
     "output_type": "execute_result"
    }
   ],
   "source": [
    "df1.isnull().sum()"
   ]
  },
  {
   "cell_type": "code",
   "execution_count": 31,
   "id": "7d3bc800",
   "metadata": {},
   "outputs": [
    {
     "data": {
      "text/plain": [
       "Unnamed: 0        0\n",
       "ID                0\n",
       "Dlq_stat          0\n",
       "amounts           0\n",
       "obs_date          0\n",
       "Dlq_days      13086\n",
       "Vertical1         0\n",
       "Province1         0\n",
       "dtype: int64"
      ]
     },
     "execution_count": 31,
     "metadata": {},
     "output_type": "execute_result"
    }
   ],
   "source": [
    "df2.isnull().sum()"
   ]
  },
  {
   "cell_type": "code",
   "execution_count": 32,
   "id": "a9c3c2d9",
   "metadata": {},
   "outputs": [
    {
     "data": {
      "text/plain": [
       "Unnamed: 0        0\n",
       "ID                0\n",
       "Dlq_stat          0\n",
       "amounts           0\n",
       "obs_date          0\n",
       "Dlq_days      13679\n",
       "Vertical1         0\n",
       "Province1         0\n",
       "dtype: int64"
      ]
     },
     "execution_count": 32,
     "metadata": {},
     "output_type": "execute_result"
    }
   ],
   "source": [
    "df3.isnull().sum()"
   ]
  },
  {
   "cell_type": "code",
   "execution_count": 144,
   "id": "0b9875ec",
   "metadata": {},
   "outputs": [
    {
     "data": {
      "text/plain": [
       "Unnamed: 0        0\n",
       "ID                0\n",
       "Dlq_stat          0\n",
       "amounts           0\n",
       "obs_date          0\n",
       "Dlq_days      13281\n",
       "Vertical1         0\n",
       "Province1         0\n",
       "dtype: int64"
      ]
     },
     "execution_count": 144,
     "metadata": {},
     "output_type": "execute_result"
    }
   ],
   "source": [
    "# we'll use regular expression against the entire dataframe to capture any other empty value\n",
    "df1.replace(r'^\\s*$',np.nan, regex=True).isnull().sum()"
   ]
  },
  {
   "cell_type": "code",
   "execution_count": 65,
   "id": "be1be1b4",
   "metadata": {},
   "outputs": [
    {
     "data": {
      "text/plain": [
       "0         NaN\n",
       "1         NaN\n",
       "2         NaN\n",
       "3         NaN\n",
       "4         NaN\n",
       "         ... \n",
       "13381   15.00\n",
       "13382   41.00\n",
       "13383     NaN\n",
       "13384   55.00\n",
       "13385   15.00\n",
       "Name: Dlq_days, Length: 13386, dtype: float64"
      ]
     },
     "execution_count": 65,
     "metadata": {},
     "output_type": "execute_result"
    }
   ],
   "source": [
    "df1['Dlq_days']"
   ]
  },
  {
   "cell_type": "code",
   "execution_count": 145,
   "id": "44f16e03",
   "metadata": {},
   "outputs": [],
   "source": [
    "df1['Dlq_days'] = df1['Dlq_days'].fillna(0)"
   ]
  },
  {
   "cell_type": "code",
   "execution_count": 146,
   "id": "e54639b1",
   "metadata": {},
   "outputs": [],
   "source": [
    "df2['Dlq_days'] = df2['Dlq_days'].fillna(0)"
   ]
  },
  {
   "cell_type": "code",
   "execution_count": 147,
   "id": "12c1f64d",
   "metadata": {},
   "outputs": [],
   "source": [
    "df3['Dlq_days'] = df3['Dlq_days'].fillna(0)"
   ]
  },
  {
   "cell_type": "code",
   "execution_count": null,
   "id": "1aed0e53",
   "metadata": {},
   "outputs": [],
   "source": []
  },
  {
   "cell_type": "code",
   "execution_count": 38,
   "id": "ba55f183",
   "metadata": {},
   "outputs": [],
   "source": [
    "duplicateRows = df1[df1.duplicated()]"
   ]
  },
  {
   "cell_type": "code",
   "execution_count": 39,
   "id": "3c42cb47",
   "metadata": {},
   "outputs": [
    {
     "data": {
      "text/plain": [
       "0"
      ]
     },
     "execution_count": 39,
     "metadata": {},
     "output_type": "execute_result"
    }
   ],
   "source": [
    "df1.duplicated().sum()"
   ]
  },
  {
   "cell_type": "code",
   "execution_count": 40,
   "id": "c58a58b4",
   "metadata": {},
   "outputs": [],
   "source": [
    "duplicateRows = df2[df2.duplicated()]"
   ]
  },
  {
   "cell_type": "code",
   "execution_count": 41,
   "id": "59cb976c",
   "metadata": {},
   "outputs": [
    {
     "data": {
      "text/plain": [
       "0"
      ]
     },
     "execution_count": 41,
     "metadata": {},
     "output_type": "execute_result"
    }
   ],
   "source": [
    "df2.duplicated().sum()"
   ]
  },
  {
   "cell_type": "code",
   "execution_count": 42,
   "id": "fa63b1cd",
   "metadata": {},
   "outputs": [],
   "source": [
    "duplicateRows = df3[df3.duplicated()]"
   ]
  },
  {
   "cell_type": "code",
   "execution_count": 43,
   "id": "7a1acca5",
   "metadata": {},
   "outputs": [
    {
     "data": {
      "text/plain": [
       "0"
      ]
     },
     "execution_count": 43,
     "metadata": {},
     "output_type": "execute_result"
    }
   ],
   "source": [
    "df3.duplicated().sum()"
   ]
  },
  {
   "cell_type": "code",
   "execution_count": null,
   "id": "c2752813",
   "metadata": {},
   "outputs": [],
   "source": []
  },
  {
   "cell_type": "code",
   "execution_count": 148,
   "id": "2152c63c",
   "metadata": {},
   "outputs": [
    {
     "name": "stdout",
     "output_type": "stream",
     "text": [
      "<class 'pandas.core.frame.DataFrame'>\n",
      "RangeIndex: 13386 entries, 0 to 13385\n",
      "Data columns (total 8 columns):\n",
      " #   Column      Non-Null Count  Dtype         \n",
      "---  ------      --------------  -----         \n",
      " 0   Unnamed: 0  13386 non-null  int64         \n",
      " 1   ID          13386 non-null  object        \n",
      " 2   Dlq_stat    13386 non-null  object        \n",
      " 3   amounts     13386 non-null  float64       \n",
      " 4   obs_date    13386 non-null  datetime64[ns]\n",
      " 5   Dlq_days    13386 non-null  float64       \n",
      " 6   Vertical1   13386 non-null  object        \n",
      " 7   Province1   13386 non-null  object        \n",
      "dtypes: datetime64[ns](1), float64(2), int64(1), object(4)\n",
      "memory usage: 836.8+ KB\n"
     ]
    }
   ],
   "source": [
    "df1.info()"
   ]
  },
  {
   "cell_type": "code",
   "execution_count": 70,
   "id": "dac2b323",
   "metadata": {},
   "outputs": [],
   "source": [
    "# drop some columns\n",
    "df1_drop = df1.drop(columns= ['Unnamed: 0', 'ID'])"
   ]
  },
  {
   "cell_type": "code",
   "execution_count": 71,
   "id": "a2883e13",
   "metadata": {},
   "outputs": [
    {
     "name": "stdout",
     "output_type": "stream",
     "text": [
      "<class 'pandas.core.frame.DataFrame'>\n",
      "RangeIndex: 13386 entries, 0 to 13385\n",
      "Data columns (total 6 columns):\n",
      " #   Column     Non-Null Count  Dtype  \n",
      "---  ------     --------------  -----  \n",
      " 0   Dlq_stat   13386 non-null  object \n",
      " 1   amounts    13386 non-null  float64\n",
      " 2   obs_date   13386 non-null  object \n",
      " 3   Dlq_days   13386 non-null  float64\n",
      " 4   Vertical1  13386 non-null  object \n",
      " 5   Province1  13386 non-null  object \n",
      "dtypes: float64(2), object(4)\n",
      "memory usage: 627.6+ KB\n"
     ]
    }
   ],
   "source": [
    "df1_drop.info()"
   ]
  },
  {
   "cell_type": "markdown",
   "id": "898dcb86",
   "metadata": {},
   "source": [
    "### Engoding"
   ]
  },
  {
   "cell_type": "code",
   "execution_count": 149,
   "id": "c5bab28c",
   "metadata": {},
   "outputs": [],
   "source": [
    "df1_cov = pd.get_dummies(df1_drop, columns=['Dlq_stat'], dtype=int)"
   ]
  },
  {
   "cell_type": "code",
   "execution_count": 96,
   "id": "07b60aa9",
   "metadata": {},
   "outputs": [
    {
     "data": {
      "text/html": [
       "<div>\n",
       "<style scoped>\n",
       "    .dataframe tbody tr th:only-of-type {\n",
       "        vertical-align: middle;\n",
       "    }\n",
       "\n",
       "    .dataframe tbody tr th {\n",
       "        vertical-align: top;\n",
       "    }\n",
       "\n",
       "    .dataframe thead th {\n",
       "        text-align: right;\n",
       "    }\n",
       "</style>\n",
       "<table border=\"1\" class=\"dataframe\">\n",
       "  <thead>\n",
       "    <tr style=\"text-align: right;\">\n",
       "      <th></th>\n",
       "      <th>amounts</th>\n",
       "      <th>obs_date</th>\n",
       "      <th>Dlq_days</th>\n",
       "      <th>Vertical1</th>\n",
       "      <th>Province1</th>\n",
       "      <th>Dlq_stat_Current</th>\n",
       "      <th>Dlq_stat_Delinquent</th>\n",
       "      <th>Dlq_stat_WriteOff</th>\n",
       "    </tr>\n",
       "  </thead>\n",
       "  <tbody>\n",
       "    <tr>\n",
       "      <th>0</th>\n",
       "      <td>389.63</td>\n",
       "      <td>2014-06-30 12:00:00</td>\n",
       "      <td>0.00</td>\n",
       "      <td>Home Improvement</td>\n",
       "      <td>ON</td>\n",
       "      <td>1</td>\n",
       "      <td>0</td>\n",
       "      <td>0</td>\n",
       "    </tr>\n",
       "    <tr>\n",
       "      <th>1</th>\n",
       "      <td>2446.13</td>\n",
       "      <td>2014-06-30 12:00:00</td>\n",
       "      <td>0.00</td>\n",
       "      <td>Vehicle</td>\n",
       "      <td>AB</td>\n",
       "      <td>1</td>\n",
       "      <td>0</td>\n",
       "      <td>0</td>\n",
       "    </tr>\n",
       "    <tr>\n",
       "      <th>2</th>\n",
       "      <td>2874.37</td>\n",
       "      <td>2014-06-30 12:00:00</td>\n",
       "      <td>0.00</td>\n",
       "      <td>Home Improvement</td>\n",
       "      <td>ON</td>\n",
       "      <td>1</td>\n",
       "      <td>0</td>\n",
       "      <td>0</td>\n",
       "    </tr>\n",
       "  </tbody>\n",
       "</table>\n",
       "</div>"
      ],
      "text/plain": [
       "   amounts             obs_date  Dlq_days         Vertical1 Province1  \\\n",
       "0   389.63  2014-06-30 12:00:00      0.00  Home Improvement        ON   \n",
       "1  2446.13  2014-06-30 12:00:00      0.00           Vehicle        AB   \n",
       "2  2874.37  2014-06-30 12:00:00      0.00  Home Improvement        ON   \n",
       "\n",
       "   Dlq_stat_Current  Dlq_stat_Delinquent  Dlq_stat_WriteOff  \n",
       "0                 1                    0                  0  \n",
       "1                 1                    0                  0  \n",
       "2                 1                    0                  0  "
      ]
     },
     "execution_count": 96,
     "metadata": {},
     "output_type": "execute_result"
    }
   ],
   "source": [
    "df1_cov.head(3)"
   ]
  },
  {
   "cell_type": "code",
   "execution_count": null,
   "id": "3f1da8b5",
   "metadata": {},
   "outputs": [],
   "source": []
  },
  {
   "cell_type": "markdown",
   "id": "f101022b",
   "metadata": {},
   "source": [
    "### Group over Vertical1 and lq_stat"
   ]
  },
  {
   "cell_type": "code",
   "execution_count": 101,
   "id": "78b4b5e7",
   "metadata": {},
   "outputs": [
    {
     "data": {
      "text/html": [
       "<div>\n",
       "<style scoped>\n",
       "    .dataframe tbody tr th:only-of-type {\n",
       "        vertical-align: middle;\n",
       "    }\n",
       "\n",
       "    .dataframe tbody tr th {\n",
       "        vertical-align: top;\n",
       "    }\n",
       "\n",
       "    .dataframe thead th {\n",
       "        text-align: right;\n",
       "    }\n",
       "</style>\n",
       "<table border=\"1\" class=\"dataframe\">\n",
       "  <thead>\n",
       "    <tr style=\"text-align: right;\">\n",
       "      <th></th>\n",
       "      <th>Dlq_stat_Current</th>\n",
       "    </tr>\n",
       "    <tr>\n",
       "      <th>Vertical1</th>\n",
       "      <th></th>\n",
       "    </tr>\n",
       "  </thead>\n",
       "  <tbody>\n",
       "    <tr>\n",
       "      <th>Home Improvement</th>\n",
       "      <td>6287</td>\n",
       "    </tr>\n",
       "    <tr>\n",
       "      <th>Vehicle</th>\n",
       "      <td>7099</td>\n",
       "    </tr>\n",
       "  </tbody>\n",
       "</table>\n",
       "</div>"
      ],
      "text/plain": [
       "                  Dlq_stat_Current\n",
       "Vertical1                         \n",
       "Home Improvement              6287\n",
       "Vehicle                       7099"
      ]
     },
     "execution_count": 101,
     "metadata": {},
     "output_type": "execute_result"
    }
   ],
   "source": [
    "VerStat = df1_cov[['Vertical1', 'Dlq_stat_Current']]\n",
    "VerStat_grp = VerStat.groupby(['Vertical1']).count()\n",
    "VerStat_grp"
   ]
  },
  {
   "cell_type": "code",
   "execution_count": 102,
   "id": "e7e2494e",
   "metadata": {},
   "outputs": [
    {
     "data": {
      "text/plain": [
       "<Axes: xlabel='Vertical1'>"
      ]
     },
     "execution_count": 102,
     "metadata": {},
     "output_type": "execute_result"
    },
    {
     "data": {
      "image/png": "[encoded data removed]",
      "text/plain": [
       "<Figure size 640x480 with 1 Axes>"
      ]
     },
     "metadata": {},
     "output_type": "display_data"
    }
   ],
   "source": [
    "VerStat_grp.plot.bar()"
   ]
  },
  {
   "cell_type": "code",
   "execution_count": 103,
   "id": "73826f87",
   "metadata": {},
   "outputs": [
    {
     "data": {
      "text/html": [
       "<div>\n",
       "<style scoped>\n",
       "    .dataframe tbody tr th:only-of-type {\n",
       "        vertical-align: middle;\n",
       "    }\n",
       "\n",
       "    .dataframe tbody tr th {\n",
       "        vertical-align: top;\n",
       "    }\n",
       "\n",
       "    .dataframe thead th {\n",
       "        text-align: right;\n",
       "    }\n",
       "</style>\n",
       "<table border=\"1\" class=\"dataframe\">\n",
       "  <thead>\n",
       "    <tr style=\"text-align: right;\">\n",
       "      <th></th>\n",
       "      <th>Dlq_stat_Delinquent</th>\n",
       "    </tr>\n",
       "    <tr>\n",
       "      <th>Vertical1</th>\n",
       "      <th></th>\n",
       "    </tr>\n",
       "  </thead>\n",
       "  <tbody>\n",
       "    <tr>\n",
       "      <th>Home Improvement</th>\n",
       "      <td>6287</td>\n",
       "    </tr>\n",
       "    <tr>\n",
       "      <th>Vehicle</th>\n",
       "      <td>7099</td>\n",
       "    </tr>\n",
       "  </tbody>\n",
       "</table>\n",
       "</div>"
      ],
      "text/plain": [
       "                  Dlq_stat_Delinquent\n",
       "Vertical1                            \n",
       "Home Improvement                 6287\n",
       "Vehicle                          7099"
      ]
     },
     "execution_count": 103,
     "metadata": {},
     "output_type": "execute_result"
    }
   ],
   "source": [
    "VerStat = df1_cov[['Vertical1', 'Dlq_stat_Delinquent']]\n",
    "VerStat_grp = VerStat.groupby(['Vertical1']).count()\n",
    "VerStat_grp"
   ]
  },
  {
   "cell_type": "code",
   "execution_count": 104,
   "id": "e269b1f4",
   "metadata": {},
   "outputs": [
    {
     "data": {
      "text/plain": [
       "<Axes: xlabel='Vertical1'>"
      ]
     },
     "execution_count": 104,
     "metadata": {},
     "output_type": "execute_result"
    },
    {
     "data": {
      "image/png": "[encoded data removed]",
      "text/plain": [
       "<Figure size 640x480 with 1 Axes>"
      ]
     },
     "metadata": {},
     "output_type": "display_data"
    }
   ],
   "source": [
    "VerStat_grp.plot.bar()"
   ]
  },
  {
   "cell_type": "code",
   "execution_count": 105,
   "id": "1bb22264",
   "metadata": {},
   "outputs": [
    {
     "data": {
      "text/html": [
       "<div>\n",
       "<style scoped>\n",
       "    .dataframe tbody tr th:only-of-type {\n",
       "        vertical-align: middle;\n",
       "    }\n",
       "\n",
       "    .dataframe tbody tr th {\n",
       "        vertical-align: top;\n",
       "    }\n",
       "\n",
       "    .dataframe thead th {\n",
       "        text-align: right;\n",
       "    }\n",
       "</style>\n",
       "<table border=\"1\" class=\"dataframe\">\n",
       "  <thead>\n",
       "    <tr style=\"text-align: right;\">\n",
       "      <th></th>\n",
       "      <th>Dlq_stat_WriteOff</th>\n",
       "    </tr>\n",
       "    <tr>\n",
       "      <th>Vertical1</th>\n",
       "      <th></th>\n",
       "    </tr>\n",
       "  </thead>\n",
       "  <tbody>\n",
       "    <tr>\n",
       "      <th>Home Improvement</th>\n",
       "      <td>6287</td>\n",
       "    </tr>\n",
       "    <tr>\n",
       "      <th>Vehicle</th>\n",
       "      <td>7099</td>\n",
       "    </tr>\n",
       "  </tbody>\n",
       "</table>\n",
       "</div>"
      ],
      "text/plain": [
       "                  Dlq_stat_WriteOff\n",
       "Vertical1                          \n",
       "Home Improvement               6287\n",
       "Vehicle                        7099"
      ]
     },
     "execution_count": 105,
     "metadata": {},
     "output_type": "execute_result"
    }
   ],
   "source": [
    "VerStat = df1_cov[['Vertical1', 'Dlq_stat_WriteOff']]\n",
    "VerStat_grp = VerStat.groupby(['Vertical1']).count()\n",
    "VerStat_grp"
   ]
  },
  {
   "cell_type": "code",
   "execution_count": 106,
   "id": "1d711e10",
   "metadata": {},
   "outputs": [
    {
     "data": {
      "text/plain": [
       "<Axes: xlabel='Vertical1'>"
      ]
     },
     "execution_count": 106,
     "metadata": {},
     "output_type": "execute_result"
    },
    {
     "data": {
      "image/png": "[encoded data removed]",
      "text/plain": [
       "<Figure size 640x480 with 1 Axes>"
      ]
     },
     "metadata": {},
     "output_type": "display_data"
    }
   ],
   "source": [
    "VerStat_grp.plot.bar()"
   ]
  },
  {
   "cell_type": "code",
   "execution_count": null,
   "id": "329163ec",
   "metadata": {},
   "outputs": [],
   "source": []
  },
  {
   "cell_type": "markdown",
   "id": "dc787531",
   "metadata": {},
   "source": [
    "### Group over Province1 and lq_stat"
   ]
  },
  {
   "cell_type": "code",
   "execution_count": null,
   "id": "bc935ddd",
   "metadata": {},
   "outputs": [],
   "source": []
  },
  {
   "cell_type": "code",
   "execution_count": 108,
   "id": "2301a577",
   "metadata": {},
   "outputs": [
    {
     "data": {
      "text/html": [
       "<div>\n",
       "<style scoped>\n",
       "    .dataframe tbody tr th:only-of-type {\n",
       "        vertical-align: middle;\n",
       "    }\n",
       "\n",
       "    .dataframe tbody tr th {\n",
       "        vertical-align: top;\n",
       "    }\n",
       "\n",
       "    .dataframe thead th {\n",
       "        text-align: right;\n",
       "    }\n",
       "</style>\n",
       "<table border=\"1\" class=\"dataframe\">\n",
       "  <thead>\n",
       "    <tr style=\"text-align: right;\">\n",
       "      <th></th>\n",
       "      <th>Province1</th>\n",
       "    </tr>\n",
       "    <tr>\n",
       "      <th>Province1</th>\n",
       "      <th></th>\n",
       "    </tr>\n",
       "  </thead>\n",
       "  <tbody>\n",
       "    <tr>\n",
       "      <th>AB</th>\n",
       "      <td>3112</td>\n",
       "    </tr>\n",
       "    <tr>\n",
       "      <th>BC</th>\n",
       "      <td>2188</td>\n",
       "    </tr>\n",
       "    <tr>\n",
       "      <th>ON</th>\n",
       "      <td>4604</td>\n",
       "    </tr>\n",
       "    <tr>\n",
       "      <th>Other Provinces</th>\n",
       "      <td>3482</td>\n",
       "    </tr>\n",
       "  </tbody>\n",
       "</table>\n",
       "</div>"
      ],
      "text/plain": [
       "                 Province1\n",
       "Province1                 \n",
       "AB                    3112\n",
       "BC                    2188\n",
       "ON                    4604\n",
       "Other Provinces       3482"
      ]
     },
     "execution_count": 108,
     "metadata": {},
     "output_type": "execute_result"
    }
   ],
   "source": [
    "df1_pvstat = df1_drop.groupby('Province1')['Dlq_stat'].agg(['count'])\n",
    "df1_pvstat.columns = ['Province1']\n",
    "df1_pvstat"
   ]
  },
  {
   "cell_type": "code",
   "execution_count": 109,
   "id": "db399653",
   "metadata": {},
   "outputs": [
    {
     "data": {
      "text/plain": [
       "<Axes: xlabel='Province1'>"
      ]
     },
     "execution_count": 109,
     "metadata": {},
     "output_type": "execute_result"
    },
    {
     "data": {
      "image/png": "[encoded data removed]",
      "text/plain": [
       "<Figure size 640x480 with 1 Axes>"
      ]
     },
     "metadata": {},
     "output_type": "display_data"
    }
   ],
   "source": [
    "df1_pvstat.plot.bar()"
   ]
  },
  {
   "cell_type": "markdown",
   "id": "6a3ae8f8",
   "metadata": {},
   "source": [
    "### Group over amounts and lq_stat"
   ]
  },
  {
   "cell_type": "code",
   "execution_count": 113,
   "id": "33825659",
   "metadata": {},
   "outputs": [
    {
     "data": {
      "text/html": [
       "<div>\n",
       "<style scoped>\n",
       "    .dataframe tbody tr th:only-of-type {\n",
       "        vertical-align: middle;\n",
       "    }\n",
       "\n",
       "    .dataframe tbody tr th {\n",
       "        vertical-align: top;\n",
       "    }\n",
       "\n",
       "    .dataframe thead th {\n",
       "        text-align: right;\n",
       "    }\n",
       "</style>\n",
       "<table border=\"1\" class=\"dataframe\">\n",
       "  <thead>\n",
       "    <tr style=\"text-align: right;\">\n",
       "      <th></th>\n",
       "      <th>Dlq_stat</th>\n",
       "    </tr>\n",
       "    <tr>\n",
       "      <th>Dlq_stat</th>\n",
       "      <th></th>\n",
       "    </tr>\n",
       "  </thead>\n",
       "  <tbody>\n",
       "    <tr>\n",
       "      <th>Current</th>\n",
       "      <td>25879663.69</td>\n",
       "    </tr>\n",
       "    <tr>\n",
       "      <th>Delinquent</th>\n",
       "      <td>266295.04</td>\n",
       "    </tr>\n",
       "    <tr>\n",
       "      <th>WriteOff</th>\n",
       "      <td>12422.30</td>\n",
       "    </tr>\n",
       "  </tbody>\n",
       "</table>\n",
       "</div>"
      ],
      "text/plain": [
       "              Dlq_stat\n",
       "Dlq_stat              \n",
       "Current    25879663.69\n",
       "Delinquent   266295.04\n",
       "WriteOff      12422.30"
      ]
     },
     "execution_count": 113,
     "metadata": {},
     "output_type": "execute_result"
    }
   ],
   "source": [
    "df11_pvstat = df1_drop.groupby('Dlq_stat')['amounts'].agg(['sum'])\n",
    "df11_pvstat.columns = ['Dlq_stat']\n",
    "df11_pvstat"
   ]
  },
  {
   "cell_type": "code",
   "execution_count": 114,
   "id": "fcb97bd4",
   "metadata": {},
   "outputs": [
    {
     "data": {
      "text/plain": [
       "<Axes: xlabel='Dlq_stat'>"
      ]
     },
     "execution_count": 114,
     "metadata": {},
     "output_type": "execute_result"
    },
    {
     "data": {
      "image/png": "[encoded data removed]",
      "text/plain": [
       "<Figure size 640x480 with 1 Axes>"
      ]
     },
     "metadata": {},
     "output_type": "display_data"
    }
   ],
   "source": [
    "df11_pvstat.plot.bar()"
   ]
  },
  {
   "cell_type": "code",
   "execution_count": null,
   "id": "e8ab3638",
   "metadata": {},
   "outputs": [],
   "source": []
  },
  {
   "cell_type": "markdown",
   "id": "e8e43820",
   "metadata": {},
   "source": [
    "## Task 2\n",
    "\n",
    "Use Test_data_2014_06_30, Test_data_2014_07_30, and Test_data_2014_08_30\n",
    "\n",
    "a) Management wants to know whether there are any key trends in performance between June and August. Use Google Slides or powerpoint to present your results (2-3 slides max).\n"
   ]
  },
  {
   "cell_type": "code",
   "execution_count": 150,
   "id": "456e9650",
   "metadata": {},
   "outputs": [
    {
     "name": "stdout",
     "output_type": "stream",
     "text": [
      "<class 'pandas.core.frame.DataFrame'>\n",
      "RangeIndex: 13180 entries, 0 to 13179\n",
      "Data columns (total 8 columns):\n",
      " #   Column      Non-Null Count  Dtype         \n",
      "---  ------      --------------  -----         \n",
      " 0   Unnamed: 0  13180 non-null  int64         \n",
      " 1   ID          13180 non-null  object        \n",
      " 2   Dlq_stat    13180 non-null  object        \n",
      " 3   amounts     13180 non-null  float64       \n",
      " 4   obs_date    13180 non-null  datetime64[ns]\n",
      " 5   Dlq_days    13180 non-null  float64       \n",
      " 6   Vertical1   13180 non-null  object        \n",
      " 7   Province1   13180 non-null  object        \n",
      "dtypes: datetime64[ns](1), float64(2), int64(1), object(4)\n",
      "memory usage: 823.9+ KB\n"
     ]
    }
   ],
   "source": [
    "df2.info()"
   ]
  },
  {
   "cell_type": "code",
   "execution_count": null,
   "id": "28c8d4eb",
   "metadata": {},
   "outputs": [],
   "source": []
  },
  {
   "cell_type": "code",
   "execution_count": null,
   "id": "ddd3bded",
   "metadata": {},
   "outputs": [],
   "source": []
  },
  {
   "cell_type": "markdown",
   "id": "58757ef3",
   "metadata": {},
   "source": [
    "### Group over Dlq_days and lq_stat"
   ]
  },
  {
   "cell_type": "code",
   "execution_count": 155,
   "id": "5fb3c6e7",
   "metadata": {},
   "outputs": [
    {
     "data": {
      "text/plain": [
       "Text(0.5, 0, 'Dlq_days')"
      ]
     },
     "execution_count": 155,
     "metadata": {},
     "output_type": "execute_result"
    },
    {
     "data": {
      "image/png": "[encoded data removed]",
      "text/plain": [
       "<Figure size 1000x600 with 1 Axes>"
      ]
     },
     "metadata": {},
     "output_type": "display_data"
    }
   ],
   "source": [
    "df1.groupby('Dlq_days')['amounts'].agg(['sum']).plot(figsize=(10,6))\n",
    "plt.ylabel('amounts')\n",
    "plt.xlabel('Dlq_days')"
   ]
  },
  {
   "cell_type": "code",
   "execution_count": 153,
   "id": "534232b9",
   "metadata": {},
   "outputs": [
    {
     "data": {
      "text/plain": [
       "Text(0.5, 0, 'Dlq_days')"
      ]
     },
     "execution_count": 153,
     "metadata": {},
     "output_type": "execute_result"
    },
    {
     "data": {
      "image/png": "[encoded data removed]",
      "text/plain": [
       "<Figure size 2000x600 with 1 Axes>"
      ]
     },
     "metadata": {},
     "output_type": "display_data"
    }
   ],
   "source": [
    "df2.groupby('Dlq_days')['amounts'].agg(['sum']).plot(figsize=(20,6))\n",
    "plt.ylabel('amounts')\n",
    "plt.xlabel('Dlq_days')"
   ]
  },
  {
   "cell_type": "code",
   "execution_count": null,
   "id": "97b76aa9",
   "metadata": {},
   "outputs": [],
   "source": []
  },
  {
   "cell_type": "code",
   "execution_count": null,
   "id": "c8f9bbce",
   "metadata": {},
   "outputs": [],
   "source": []
  },
  {
   "cell_type": "code",
   "execution_count": 154,
   "id": "e8ecd514",
   "metadata": {},
   "outputs": [
    {
     "data": {
      "text/plain": [
       "Text(0.5, 0, 'Dlq_days')"
      ]
     },
     "execution_count": 154,
     "metadata": {},
     "output_type": "execute_result"
    },
    {
     "data": {
      "image/png": "[encoded data removed]",
      "text/plain": [
       "<Figure size 2000x600 with 1 Axes>"
      ]
     },
     "metadata": {},
     "output_type": "display_data"
    }
   ],
   "source": [
    "df3.groupby('Dlq_days')['amounts'].agg(['sum']).plot(figsize=(20,6))\n",
    "plt.ylabel('amounts')\n",
    "plt.xlabel('Dlq_days')"
   ]
  },
  {
   "cell_type": "markdown",
   "id": "3e1c7f26",
   "metadata": {},
   "source": [
    "### Getting percentage to know the performance"
   ]
  },
  {
   "cell_type": "code",
   "execution_count": 160,
   "id": "62a38e84",
   "metadata": {},
   "outputs": [
    {
     "name": "stdout",
     "output_type": "stream",
     "text": [
      "<class 'pandas.core.frame.DataFrame'>\n",
      "RangeIndex: 13180 entries, 0 to 13179\n",
      "Data columns (total 8 columns):\n",
      " #   Column      Non-Null Count  Dtype         \n",
      "---  ------      --------------  -----         \n",
      " 0   Unnamed: 0  13180 non-null  int64         \n",
      " 1   ID          13180 non-null  object        \n",
      " 2   Dlq_stat    13180 non-null  object        \n",
      " 3   amounts     13180 non-null  float64       \n",
      " 4   obs_date    13180 non-null  datetime64[ns]\n",
      " 5   Dlq_days    13180 non-null  float64       \n",
      " 6   Vertical1   13180 non-null  object        \n",
      " 7   Province1   13180 non-null  object        \n",
      "dtypes: datetime64[ns](1), float64(2), int64(1), object(4)\n",
      "memory usage: 823.9+ KB\n"
     ]
    }
   ],
   "source": [
    "df2.info()"
   ]
  },
  {
   "cell_type": "code",
   "execution_count": 162,
   "id": "03620467",
   "metadata": {},
   "outputs": [
    {
     "data": {
      "text/plain": [
       "Dlq_stat\n",
       "Current       13272\n",
       "Delinquent      105\n",
       "WriteOff          9\n",
       "Name: count, dtype: int64"
      ]
     },
     "execution_count": 162,
     "metadata": {},
     "output_type": "execute_result"
    }
   ],
   "source": [
    "df1['Dlq_stat'].value_counts()"
   ]
  },
  {
   "cell_type": "code",
   "execution_count": 163,
   "id": "4475d945",
   "metadata": {},
   "outputs": [
    {
     "data": {
      "text/plain": [
       "Dlq_stat\n",
       "Current       13072\n",
       "Delinquent       94\n",
       "WriteOff         14\n",
       "Name: count, dtype: int64"
      ]
     },
     "execution_count": 163,
     "metadata": {},
     "output_type": "execute_result"
    }
   ],
   "source": [
    "df2['Dlq_stat'].value_counts()"
   ]
  },
  {
   "cell_type": "code",
   "execution_count": 164,
   "id": "3143c9cd",
   "metadata": {},
   "outputs": [
    {
     "data": {
      "text/plain": [
       "Dlq_stat\n",
       "Current       13659\n",
       "Delinquent      150\n",
       "WriteOff         20\n",
       "Name: count, dtype: int64"
      ]
     },
     "execution_count": 164,
     "metadata": {},
     "output_type": "execute_result"
    }
   ],
   "source": [
    "df3['Dlq_stat'].value_counts()"
   ]
  },
  {
   "cell_type": "markdown",
   "id": "66cff41b",
   "metadata": {},
   "source": [
    "### Note:\n",
    "I think the performance is increased with a time, size of amount beco0mes better in August.\n",
    "Dlq_days is increased that is afictive in negative way"
   ]
  },
  {
   "cell_type": "code",
   "execution_count": 165,
   "id": "ecd3c583",
   "metadata": {},
   "outputs": [
    {
     "data": {
      "text/plain": [
       "2741.0"
      ]
     },
     "execution_count": 165,
     "metadata": {},
     "output_type": "execute_result"
    }
   ],
   "source": [
    "df1['Dlq_days'].sum()"
   ]
  },
  {
   "cell_type": "code",
   "execution_count": 166,
   "id": "bf71781b",
   "metadata": {},
   "outputs": [
    {
     "data": {
      "text/plain": [
       "3006.0"
      ]
     },
     "execution_count": 166,
     "metadata": {},
     "output_type": "execute_result"
    }
   ],
   "source": [
    "df2['Dlq_days'].sum()"
   ]
  },
  {
   "cell_type": "code",
   "execution_count": 167,
   "id": "80df3bee",
   "metadata": {},
   "outputs": [
    {
     "data": {
      "text/plain": [
       "3686.0"
      ]
     },
     "execution_count": 167,
     "metadata": {},
     "output_type": "execute_result"
    }
   ],
   "source": [
    "df3['Dlq_days'].sum()"
   ]
  },
  {
   "cell_type": "code",
   "execution_count": null,
   "id": "4d74946e",
   "metadata": {},
   "outputs": [],
   "source": []
  },
  {
   "cell_type": "code",
   "execution_count": null,
   "id": "8677493f",
   "metadata": {},
   "outputs": [],
   "source": []
  },
  {
   "cell_type": "code",
   "execution_count": null,
   "id": "0b3e06da",
   "metadata": {},
   "outputs": [],
   "source": []
  },
  {
   "cell_type": "code",
   "execution_count": null,
   "id": "6e25e0b1",
   "metadata": {},
   "outputs": [],
   "source": []
  },
  {
   "cell_type": "code",
   "execution_count": null,
   "id": "fae23394",
   "metadata": {},
   "outputs": [],
   "source": []
  }
 ],
 "metadata": {
  "kernelspec": {
   "display_name": "Python 3 (ipykernel)",
   "language": "python",
   "name": "python3"
  },
  "language_info": {
   "codemirror_mode": {
    "name": "ipython",
    "version": 3
   },
   "file_extension": ".py",
   "mimetype": "text/x-python",
   "name": "python",
   "nbconvert_exporter": "python",
   "pygments_lexer": "ipython3",
   "version": "3.11.5"
  }
 },
 "nbformat": 4,
 "nbformat_minor": 5
}
